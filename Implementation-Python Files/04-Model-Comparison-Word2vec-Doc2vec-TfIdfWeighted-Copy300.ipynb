{
 "cells": [
  {
   "cell_type": "markdown",
   "metadata": {},
   "source": [
    "# Performance of Different Word Embeddings on Text Classification\n",
    "\n",
    "## Compared among word2vec, TF-IDF weighted, GloVe and doc2vec"
   ]
  },
  {
   "cell_type": "code",
   "execution_count": 1,
   "metadata": {},
   "outputs": [
    {
     "name": "stderr",
     "output_type": "stream",
     "text": [
      "2021-10-31 09:56:22.401159: W tensorflow/stream_executor/platform/default/dso_loader.cc:64] Could not load dynamic library 'libcudart.so.11.0'; dlerror: libcudart.so.11.0: cannot open shared object file: No such file or directory\n",
      "2021-10-31 09:56:22.401181: I tensorflow/stream_executor/cuda/cudart_stub.cc:29] Ignore above cudart dlerror if you do not have a GPU set up on your machine.\n"
     ]
    }
   ],
   "source": [
    "%load_ext autoreload\n",
    "%autoreload 2\n",
    "\n",
    "# Data libraries\n",
    "import pandas as pd\n",
    "import numpy as np\n",
    "from numpy import random\n",
    "\n",
    "# Word2Vec libraries\n",
    "import gensim\n",
    "from gensim.models import Doc2Vec\n",
    "from gensim.models.doc2vec import TaggedDocument\n",
    "from gensim.models.callbacks import CallbackAny2Vec\n",
    "# Gensim utils for glove2word2vec\n",
    "from gensim.test.utils import get_tmpfile, datapath\n",
    "from gensim.models import KeyedVectors\n",
    "from gensim.scripts.glove2word2vec import glove2word2vec\n",
    "\n",
    "from collections import namedtuple, defaultdict\n",
    "from sklearn.feature_extraction.text import TfidfVectorizer\n",
    "\n",
    "# Classifiers that are going to be used\n",
    "from sklearn.linear_model import LogisticRegression\n",
    "from sklearn.model_selection import train_test_split\n",
    "\n",
    "# Evaluation metrics and reports\n",
    "from sklearn.metrics import f1_score, accuracy_score, classification_report, confusion_matrix\n",
    "\n",
    "import timeit\n",
    "\n",
    "# NLP/language/string Imports\n",
    "import spacy\n",
    "import en_core_web_lg\n",
    "import nltk\n",
    "from nltk.corpus import stopwords\n",
    "import re\n",
    "from bs4 import BeautifulSoup\n",
    "import contractions\n",
    "\n",
    "# Imports for files operations\n",
    "import os\n",
    "import pickle\n",
    "from numpy import genfromtxt # In order to load a .csv file to a numpy array object\n",
    "\n",
    "import warnings\n",
    "warnings.simplefilter('ignore')\n",
    "pd.set_option('max_colwidth',1000)\n",
    "\n",
    "import matplotlib.pyplot as plt\n",
    "%matplotlib inline\n",
    "\n",
    "\n",
    "VECTOR_SIZE = 300\n",
    "\n",
    "PICKLE_FILE = 'all_doc_news_300.pickle'\n",
    "WORD2VEC_FILE = \"word2vec_reviews_new_300.model\"\n",
    "MEAN_EMBEDDING_FILE = 'doc_vec_new_300.csv'\n",
    "TFIDF_EMBEDDING_FILE = 'tfidf_doc_vec_new_300.csv'\n",
    "GLOVE_EMBEDDING_FILE = 'glove_doc_vec_new_300.csv'\n",
    "DOC2VEC_EMBEDDING_FILE = 'dm_doc_vec_new_300.csv'\n",
    "\n",
    "random_state = 420\n",
    "\n",
    "# Specify train/valid/test sizes\n",
    "TEST_SIZE = 0.2\n",
    "VALID_SIZE = 0.0"
   ]
  },
  {
   "cell_type": "markdown",
   "metadata": {},
   "source": [
    "# Abstract"
   ]
  },
  {
   "cell_type": "markdown",
   "metadata": {},
   "source": [
    "## The Incentive\n",
    "\n",
    "It's been a while not able to write new posts, so sad, but now finally I am back again to share some of the knowledge I've just acquired. This time is about NLP. \n",
    "\n",
    "As a fresh rookie in NLP, I'd like to play around and test out how different methods of creating doc vector perform on text classification. This post will be highly focused on feature engineering side, that is word vectorization, and less on modeling. Thus, without further due, let's get started."
   ]
  },
  {
   "cell_type": "markdown",
   "metadata": {},
   "source": [
    "## Brief Introduction\n",
    "\n",
    "The word embeddings being investigated here are word2vec, TF-IDF weighted word2vec, pre-train GloVe word2vec and doc2vec. The packages needed are Gensim, Spacy and Scikit-Learn. Spacy is used in doc preprocessing, including stop word removal and custom token selection based on its part of speech. Gensim is heavily applied for training word2vec and doc2vec, and lastly, Scikit-Learn is for classifier building and training."
   ]
  },
  {
   "cell_type": "markdown",
   "metadata": {},
   "source": [
    "## Quick Summary\n",
    "\n",
    "After a series of comparison on different word embedding/averaging methods, it turns out that custom-trained word embedding and its averaging method, either simple mean or TF-IDF weighted has the best performance, while on the contrary, GloVe word embedding or custom-trained Doc2vec perform slightly worse than the former word embedding.\n",
    "\n",
    "Besides, even if we try to concatenate both word2vec and doc2vec as a whole feature set, it performs equally the same to just using averaging word embedding alone. In other words, no need to use both word2vec and doc2vec at the same time.\n",
    "\n",
    "\n",
    "| WordEmbedding Method        | F1 Score - Training | F1 Score - Testing | Accuracy - Training | Accuracy - Testing |\n",
    "| :---:                       | :---:               | :---:              | :---:               | :---:              |\n",
    "| Mean Word2vec               | 0.82                | 0.81               | 0.82                | 0.81               |\n",
    "| Tf-Idf Mean Word2vec        | 0.82                | 0.81               | 0.82                | 0.81               |\n",
    "| GloVe Mean Word2vec         | 0.72                | 0.71               | 0.73                | 0.72               |\n",
    "| PV-DM Doc2vec               | 0.79                | 0.78               | 0.79                | 0.78               |\n",
    "| Tf-Idf Word2vec + Doc2vec   | 0.84                | 0.81               | 0.85                | 0.82               |\n"
   ]
  },
  {
   "cell_type": "markdown",
   "metadata": {},
   "source": [
    "## Special Credits to the Following Posts and Authors\n",
    "\n",
    "In creating my **python class object** used for text preprocessing, I referred from these well-written posts.\n",
    "\n",
    "* The post [\"Text Classification with Word2vec\"](http://nadbordrozd.github.io/blog/2016/05/20/text-classification-with-word2vec/) by nadbor demos how to write your own class to compute average word embedding for doc, either simple averaging or TF-IDF weighted one.\n",
    "\n",
    "* [\"Multi-Class Text Classification Model Comparison and Selection\"](https://towardsdatascience.com/multi-class-text-classification-model-comparison-and-selection-5eb066197568) by Susan Li teaches me how to write beautiful averaging function for word embedding.\n",
    "\n",
    "* This tutorial [\"Gensim Doc2vec Tutorial on the IMDB Sentiment Dataset\"](https://github.com/RaRe-Technologies/gensim/blob/3c3506d51a2caf6b890de3b1b32a8b85f7566ca5/docs/notebooks/doc2vec-IMDB.ipynb) has step by step guidance on how to create doc2vec via Gensim.\n",
    "\n",
    "* [\"Distributed representations of sentences and documents\"](https://blog.acolyer.org/2016/06/01/distributed-representations-of-sentences-and-documents/) by Le & Mikolov presents a clear and easy-to-understand explanation on what's going under doc2vec."
   ]
  },
  {
   "cell_type": "markdown",
   "metadata": {},
   "source": [
    "# Data Preparation"
   ]
  },
  {
   "cell_type": "markdown",
   "metadata": {},
   "source": [
    "The dataset I am gonna use here is consumer complaints dataset on financial product/service as referred from [the post](https://towardsdatascience.com/multi-class-text-classification-with-doc2vec-logistic-regression-9da9947b43f4). The dataset is collected and published by [US GOV CFPB](https://catalog.data.gov/dataset/consumer-complaint-database), while we can also download the dataset from [Kaggle](https://www.kaggle.com/cfpb/us-consumer-finance-complaints).\n",
    "\n",
    "The original dataset contains more than 500 thousands records, and columns include product, sub_product, issue, consumer_complaint_narrative, and company_response_to_consumer etc.. We will just use **product** as text label and **consumer_complaint_narrative** as text itself. After dropping rows of missing values on consumer complaint we are left with around 60 thousands records. In order to lessen the computing pressure, I will just experiment on the first 25 thousands records only."
   ]
  },
  {
   "cell_type": "markdown",
   "metadata": {},
   "source": [
    "## Read in Dataset"
   ]
  },
  {
   "cell_type": "code",
   "execution_count": 2,
   "metadata": {},
   "outputs": [],
   "source": [
    "# Read in file.\n",
    "df = pd.read_csv('IMDB Dataset.csv')"
   ]
  },
  {
   "cell_type": "markdown",
   "metadata": {},
   "source": [
    "## Get Familiar with Dataset"
   ]
  },
  {
   "cell_type": "code",
   "execution_count": 3,
   "metadata": {},
   "outputs": [
    {
     "data": {
      "text/plain": [
       "(50000, 2)"
      ]
     },
     "execution_count": 3,
     "metadata": {},
     "output_type": "execute_result"
    }
   ],
   "source": [
    "# Get familiar with dataset.\n",
    "df.shape"
   ]
  },
  {
   "cell_type": "code",
   "execution_count": 4,
   "metadata": {},
   "outputs": [
    {
     "data": {
      "text/html": [
       "<div>\n",
       "<style scoped>\n",
       "    .dataframe tbody tr th:only-of-type {\n",
       "        vertical-align: middle;\n",
       "    }\n",
       "\n",
       "    .dataframe tbody tr th {\n",
       "        vertical-align: top;\n",
       "    }\n",
       "\n",
       "    .dataframe thead th {\n",
       "        text-align: right;\n",
       "    }\n",
       "</style>\n",
       "<table border=\"1\" class=\"dataframe\">\n",
       "  <thead>\n",
       "    <tr style=\"text-align: right;\">\n",
       "      <th></th>\n",
       "      <th>review</th>\n",
       "      <th>sentiment</th>\n",
       "    </tr>\n",
       "  </thead>\n",
       "  <tbody>\n",
       "    <tr>\n",
       "      <th>count</th>\n",
       "      <td>50000</td>\n",
       "      <td>50000</td>\n",
       "    </tr>\n",
       "    <tr>\n",
       "      <th>unique</th>\n",
       "      <td>49582</td>\n",
       "      <td>2</td>\n",
       "    </tr>\n",
       "    <tr>\n",
       "      <th>top</th>\n",
       "      <td>Loved today's show!!! It was a variety and not solely cooking (which would have been great too). Very stimulating and captivating, always keeping the viewer peeking around the corner to see what was coming up next. She is as down to earth and as personable as you get, like one of us which made the show all the more enjoyable. Special guests, who are friends as well made for a nice surprise too. Loved the 'first' theme and that the audience was invited to play along too. I must admit I was shocked to see her come in under her time limits on a few things, but she did it and by golly I'll be writing those recipes down. Saving time in the kitchen means more time with family. Those who haven't tuned in yet, find out what channel and the time, I assure you that you won't be disappointed.</td>\n",
       "      <td>positive</td>\n",
       "    </tr>\n",
       "    <tr>\n",
       "      <th>freq</th>\n",
       "      <td>5</td>\n",
       "      <td>25000</td>\n",
       "    </tr>\n",
       "  </tbody>\n",
       "</table>\n",
       "</div>"
      ],
      "text/plain": [
       "                                                                                                                                                                                                                                                                                                                                                                                                                                                                                                                                                                                                                                                                                                                                                                                                                          review  \\\n",
       "count                                                                                                                                                                                                                                                                                                                                                                                                                                                                                                                                                                                                                                                                                                                                                                                                                      50000   \n",
       "unique                                                                                                                                                                                                                                                                                                                                                                                                                                                                                                                                                                                                                                                                                                                                                                                                                     49582   \n",
       "top     Loved today's show!!! It was a variety and not solely cooking (which would have been great too). Very stimulating and captivating, always keeping the viewer peeking around the corner to see what was coming up next. She is as down to earth and as personable as you get, like one of us which made the show all the more enjoyable. Special guests, who are friends as well made for a nice surprise too. Loved the 'first' theme and that the audience was invited to play along too. I must admit I was shocked to see her come in under her time limits on a few things, but she did it and by golly I'll be writing those recipes down. Saving time in the kitchen means more time with family. Those who haven't tuned in yet, find out what channel and the time, I assure you that you won't be disappointed.   \n",
       "freq                                                                                                                                                                                                                                                                                                                                                                                                                                                                                                                                                                                                                                                                                                                                                                                                                           5   \n",
       "\n",
       "       sentiment  \n",
       "count      50000  \n",
       "unique         2  \n",
       "top     positive  \n",
       "freq       25000  "
      ]
     },
     "execution_count": 4,
     "metadata": {},
     "output_type": "execute_result"
    }
   ],
   "source": [
    "df.describe()"
   ]
  },
  {
   "cell_type": "code",
   "execution_count": 5,
   "metadata": {},
   "outputs": [
    {
     "data": {
      "text/html": [
       "<div>\n",
       "<style scoped>\n",
       "    .dataframe tbody tr th:only-of-type {\n",
       "        vertical-align: middle;\n",
       "    }\n",
       "\n",
       "    .dataframe tbody tr th {\n",
       "        vertical-align: top;\n",
       "    }\n",
       "\n",
       "    .dataframe thead th {\n",
       "        text-align: right;\n",
       "    }\n",
       "</style>\n",
       "<table border=\"1\" class=\"dataframe\">\n",
       "  <thead>\n",
       "    <tr style=\"text-align: right;\">\n",
       "      <th></th>\n",
       "      <th>review</th>\n",
       "      <th>sentiment</th>\n",
       "    </tr>\n",
       "  </thead>\n",
       "  <tbody>\n",
       "    <tr>\n",
       "      <th>count</th>\n",
       "      <td>49582</td>\n",
       "      <td>49582</td>\n",
       "    </tr>\n",
       "    <tr>\n",
       "      <th>unique</th>\n",
       "      <td>49582</td>\n",
       "      <td>2</td>\n",
       "    </tr>\n",
       "    <tr>\n",
       "      <th>top</th>\n",
       "      <td>One of the other reviewers has mentioned that after watching just 1 Oz episode you'll be hooked. They are right, as this is exactly what happened with me.&lt;br /&gt;&lt;br /&gt;The first thing that struck me about Oz was its brutality and unflinching scenes of violence, which set in right from the word GO. Trust me, this is not a show for the faint hearted or timid. This show pulls no punches with regards to drugs, sex or violence. Its is hardcore, in the classic use of the word.&lt;br /&gt;&lt;br /&gt;It is called OZ as that is the nickname given to the Oswald Maximum Security State Penitentary. It focuses mainly on Emerald City, an experimental section of the prison where all the cells have glass fronts and face inwards, so privacy is not high on the agenda. Em City is home to many..Aryans, Muslims, gangstas, Latinos, Christians, Italians, Irish and more....so scuffles, death stares, dodgy dealings and shady agreements are never far away.&lt;br /&gt;&lt;br /&gt;I would say the main appeal of the show is due to the...</td>\n",
       "      <td>positive</td>\n",
       "    </tr>\n",
       "    <tr>\n",
       "      <th>freq</th>\n",
       "      <td>1</td>\n",
       "      <td>24884</td>\n",
       "    </tr>\n",
       "  </tbody>\n",
       "</table>\n",
       "</div>"
      ],
      "text/plain": [
       "                                                                                                                                                                                                                                                                                                                                                                                                                                                                                                                                                                                                                                                                                                                                                                                                                                                                                                                                                                                                                                         review  \\\n",
       "count                                                                                                                                                                                                                                                                                                                                                                                                                                                                                                                                                                                                                                                                                                                                                                                                                                                                                                                                                                                                                                     49582   \n",
       "unique                                                                                                                                                                                                                                                                                                                                                                                                                                                                                                                                                                                                                                                                                                                                                                                                                                                                                                                                                                                                                                    49582   \n",
       "top     One of the other reviewers has mentioned that after watching just 1 Oz episode you'll be hooked. They are right, as this is exactly what happened with me.<br /><br />The first thing that struck me about Oz was its brutality and unflinching scenes of violence, which set in right from the word GO. Trust me, this is not a show for the faint hearted or timid. This show pulls no punches with regards to drugs, sex or violence. Its is hardcore, in the classic use of the word.<br /><br />It is called OZ as that is the nickname given to the Oswald Maximum Security State Penitentary. It focuses mainly on Emerald City, an experimental section of the prison where all the cells have glass fronts and face inwards, so privacy is not high on the agenda. Em City is home to many..Aryans, Muslims, gangstas, Latinos, Christians, Italians, Irish and more....so scuffles, death stares, dodgy dealings and shady agreements are never far away.<br /><br />I would say the main appeal of the show is due to the...   \n",
       "freq                                                                                                                                                                                                                                                                                                                                                                                                                                                                                                                                                                                                                                                                                                                                                                                                                                                                                                                                                                                                                                          1   \n",
       "\n",
       "       sentiment  \n",
       "count      49582  \n",
       "unique         2  \n",
       "top     positive  \n",
       "freq       24884  "
      ]
     },
     "execution_count": 5,
     "metadata": {},
     "output_type": "execute_result"
    }
   ],
   "source": [
    "# Select duplicate rows except first occurrence based on all columns\n",
    "df = df.drop_duplicates()\n",
    "df.describe()"
   ]
  },
  {
   "cell_type": "markdown",
   "metadata": {},
   "source": [
    "## Filter on Text and Label"
   ]
  },
  {
   "cell_type": "markdown",
   "metadata": {},
   "source": [
    "<mark>**Chart of Label Frequency**</mark>\n",
    "\n",
    "Now, let's see how frequency distributed among each label."
   ]
  },
  {
   "cell_type": "code",
   "execution_count": 6,
   "metadata": {},
   "outputs": [
    {
     "data": {
      "text/plain": [
       "positive    24884\n",
       "negative    24698\n",
       "Name: sentiment, dtype: int64"
      ]
     },
     "metadata": {},
     "output_type": "display_data"
    }
   ],
   "source": [
    "# Distribution of target variable.\n",
    "display(df['sentiment'].value_counts())"
   ]
  },
  {
   "cell_type": "code",
   "execution_count": 7,
   "metadata": {},
   "outputs": [],
   "source": [
    "import seaborn as sns"
   ]
  },
  {
   "cell_type": "markdown",
   "metadata": {},
   "source": [
    "<mark>**Sample of Dataset**</mark>"
   ]
  },
  {
   "cell_type": "code",
   "execution_count": 8,
   "metadata": {},
   "outputs": [
    {
     "name": "stdout",
     "output_type": "stream",
     "text": [
      "Demo of review and its sentiment example...\n"
     ]
    },
    {
     "data": {
      "text/html": [
       "<div>\n",
       "<style scoped>\n",
       "    .dataframe tbody tr th:only-of-type {\n",
       "        vertical-align: middle;\n",
       "    }\n",
       "\n",
       "    .dataframe tbody tr th {\n",
       "        vertical-align: top;\n",
       "    }\n",
       "\n",
       "    .dataframe thead th {\n",
       "        text-align: right;\n",
       "    }\n",
       "</style>\n",
       "<table border=\"1\" class=\"dataframe\">\n",
       "  <thead>\n",
       "    <tr style=\"text-align: right;\">\n",
       "      <th></th>\n",
       "      <th>review</th>\n",
       "      <th>sentiment</th>\n",
       "    </tr>\n",
       "  </thead>\n",
       "  <tbody>\n",
       "    <tr>\n",
       "      <th>0</th>\n",
       "      <td>One of the other reviewers has mentioned that after watching just 1 Oz episode you'll be hooked. They are right, as this is exactly what happened with me.&lt;br /&gt;&lt;br /&gt;The first thing that struck me about Oz was its brutality and unflinching scenes of violence, which set in right from the word GO. Trust me, this is not a show for the faint hearted or timid. This show pulls no punches with regards to drugs, sex or violence. Its is hardcore, in the classic use of the word.&lt;br /&gt;&lt;br /&gt;It is called OZ as that is the nickname given to the Oswald Maximum Security State Penitentary. It focuses mainly on Emerald City, an experimental section of the prison where all the cells have glass fronts and face inwards, so privacy is not high on the agenda. Em City is home to many..Aryans, Muslims, gangstas, Latinos, Christians, Italians, Irish and more....so scuffles, death stares, dodgy dealings and shady agreements are never far away.&lt;br /&gt;&lt;br /&gt;I would say the main appeal of the show is due to the...</td>\n",
       "      <td>positive</td>\n",
       "    </tr>\n",
       "    <tr>\n",
       "      <th>1</th>\n",
       "      <td>A wonderful little production. &lt;br /&gt;&lt;br /&gt;The filming technique is very unassuming- very old-time-BBC fashion and gives a comforting, and sometimes discomforting, sense of realism to the entire piece. &lt;br /&gt;&lt;br /&gt;The actors are extremely well chosen- Michael Sheen not only \"has got all the polari\" but he has all the voices down pat too! You can truly see the seamless editing guided by the references to Williams' diary entries, not only is it well worth the watching but it is a terrificly written and performed piece. A masterful production about one of the great master's of comedy and his life. &lt;br /&gt;&lt;br /&gt;The realism really comes home with the little things: the fantasy of the guard which, rather than use the traditional 'dream' techniques remains solid then disappears. It plays on our knowledge and our senses, particularly with the scenes concerning Orton and Halliwell and the sets (particularly of their flat with Halliwell's murals decorating every surface) are terribly well done.</td>\n",
       "      <td>positive</td>\n",
       "    </tr>\n",
       "    <tr>\n",
       "      <th>2</th>\n",
       "      <td>I thought this was a wonderful way to spend time on a too hot summer weekend, sitting in the air conditioned theater and watching a light-hearted comedy. The plot is simplistic, but the dialogue is witty and the characters are likable (even the well bread suspected serial killer). While some may be disappointed when they realize this is not Match Point 2: Risk Addiction, I thought it was proof that Woody Allen is still fully in control of the style many of us have grown to love.&lt;br /&gt;&lt;br /&gt;This was the most I'd laughed at one of Woody's comedies in years (dare I say a decade?). While I've never been impressed with Scarlet Johanson, in this she managed to tone down her \"sexy\" image and jumped right into a average, but spirited young woman.&lt;br /&gt;&lt;br /&gt;This may not be the crown jewel of his career, but it was wittier than \"Devil Wears Prada\" and more interesting than \"Superman\" a great comedy to go see with friends.</td>\n",
       "      <td>positive</td>\n",
       "    </tr>\n",
       "    <tr>\n",
       "      <th>3</th>\n",
       "      <td>Basically there's a family where a little boy (Jake) thinks there's a zombie in his closet &amp; his parents are fighting all the time.&lt;br /&gt;&lt;br /&gt;This movie is slower than a soap opera... and suddenly, Jake decides to become Rambo and kill the zombie.&lt;br /&gt;&lt;br /&gt;OK, first of all when you're going to make a film you must Decide if its a thriller or a drama! As a drama the movie is watchable. Parents are divorcing &amp; arguing like in real life. And then we have Jake with his closet which totally ruins all the film! I expected to see a BOOGEYMAN similar movie, and instead i watched a drama with some meaningless thriller spots.&lt;br /&gt;&lt;br /&gt;3 out of 10 just for the well playing parents &amp; descent dialogs. As for the shots with Jake: just ignore them.</td>\n",
       "      <td>negative</td>\n",
       "    </tr>\n",
       "    <tr>\n",
       "      <th>4</th>\n",
       "      <td>Petter Mattei's \"Love in the Time of Money\" is a visually stunning film to watch. Mr. Mattei offers us a vivid portrait about human relations. This is a movie that seems to be telling us what money, power and success do to people in the different situations we encounter. &lt;br /&gt;&lt;br /&gt;This being a variation on the Arthur Schnitzler's play about the same theme, the director transfers the action to the present time New York where all these different characters meet and connect. Each one is connected in one way, or another to the next person, but no one seems to know the previous point of contact. Stylishly, the film has a sophisticated luxurious look. We are taken to see how these people live and the world they live in their own habitat.&lt;br /&gt;&lt;br /&gt;The only thing one gets out of all these souls in the picture is the different stages of loneliness each one inhabits. A big city is not exactly the best place in which human relations find sincere fulfillment, as one discerns is the case wi...</td>\n",
       "      <td>positive</td>\n",
       "    </tr>\n",
       "  </tbody>\n",
       "</table>\n",
       "</div>"
      ],
      "text/plain": [
       "                                                                                                                                                                                                                                                                                                                                                                                                                                                                                                                                                                                                                                                                                                                                                                                                                                                                                                                                                                                                                                    review  \\\n",
       "0  One of the other reviewers has mentioned that after watching just 1 Oz episode you'll be hooked. They are right, as this is exactly what happened with me.<br /><br />The first thing that struck me about Oz was its brutality and unflinching scenes of violence, which set in right from the word GO. Trust me, this is not a show for the faint hearted or timid. This show pulls no punches with regards to drugs, sex or violence. Its is hardcore, in the classic use of the word.<br /><br />It is called OZ as that is the nickname given to the Oswald Maximum Security State Penitentary. It focuses mainly on Emerald City, an experimental section of the prison where all the cells have glass fronts and face inwards, so privacy is not high on the agenda. Em City is home to many..Aryans, Muslims, gangstas, Latinos, Christians, Italians, Irish and more....so scuffles, death stares, dodgy dealings and shady agreements are never far away.<br /><br />I would say the main appeal of the show is due to the...   \n",
       "1   A wonderful little production. <br /><br />The filming technique is very unassuming- very old-time-BBC fashion and gives a comforting, and sometimes discomforting, sense of realism to the entire piece. <br /><br />The actors are extremely well chosen- Michael Sheen not only \"has got all the polari\" but he has all the voices down pat too! You can truly see the seamless editing guided by the references to Williams' diary entries, not only is it well worth the watching but it is a terrificly written and performed piece. A masterful production about one of the great master's of comedy and his life. <br /><br />The realism really comes home with the little things: the fantasy of the guard which, rather than use the traditional 'dream' techniques remains solid then disappears. It plays on our knowledge and our senses, particularly with the scenes concerning Orton and Halliwell and the sets (particularly of their flat with Halliwell's murals decorating every surface) are terribly well done.   \n",
       "2                                                                           I thought this was a wonderful way to spend time on a too hot summer weekend, sitting in the air conditioned theater and watching a light-hearted comedy. The plot is simplistic, but the dialogue is witty and the characters are likable (even the well bread suspected serial killer). While some may be disappointed when they realize this is not Match Point 2: Risk Addiction, I thought it was proof that Woody Allen is still fully in control of the style many of us have grown to love.<br /><br />This was the most I'd laughed at one of Woody's comedies in years (dare I say a decade?). While I've never been impressed with Scarlet Johanson, in this she managed to tone down her \"sexy\" image and jumped right into a average, but spirited young woman.<br /><br />This may not be the crown jewel of his career, but it was wittier than \"Devil Wears Prada\" and more interesting than \"Superman\" a great comedy to go see with friends.   \n",
       "3                                                                                                                                                                                                                                                             Basically there's a family where a little boy (Jake) thinks there's a zombie in his closet & his parents are fighting all the time.<br /><br />This movie is slower than a soap opera... and suddenly, Jake decides to become Rambo and kill the zombie.<br /><br />OK, first of all when you're going to make a film you must Decide if its a thriller or a drama! As a drama the movie is watchable. Parents are divorcing & arguing like in real life. And then we have Jake with his closet which totally ruins all the film! I expected to see a BOOGEYMAN similar movie, and instead i watched a drama with some meaningless thriller spots.<br /><br />3 out of 10 just for the well playing parents & descent dialogs. As for the shots with Jake: just ignore them.   \n",
       "4  Petter Mattei's \"Love in the Time of Money\" is a visually stunning film to watch. Mr. Mattei offers us a vivid portrait about human relations. This is a movie that seems to be telling us what money, power and success do to people in the different situations we encounter. <br /><br />This being a variation on the Arthur Schnitzler's play about the same theme, the director transfers the action to the present time New York where all these different characters meet and connect. Each one is connected in one way, or another to the next person, but no one seems to know the previous point of contact. Stylishly, the film has a sophisticated luxurious look. We are taken to see how these people live and the world they live in their own habitat.<br /><br />The only thing one gets out of all these souls in the picture is the different stages of loneliness each one inhabits. A big city is not exactly the best place in which human relations find sincere fulfillment, as one discerns is the case wi...   \n",
       "\n",
       "  sentiment  \n",
       "0  positive  \n",
       "1  positive  \n",
       "2  positive  \n",
       "3  negative  \n",
       "4  positive  "
      ]
     },
     "execution_count": 8,
     "metadata": {},
     "output_type": "execute_result"
    }
   ],
   "source": [
    "print('Demo of review and its sentiment example...')\n",
    "df.head()"
   ]
  },
  {
   "cell_type": "markdown",
   "metadata": {},
   "source": [
    "# Document Preprocessing"
   ]
  },
  {
   "cell_type": "markdown",
   "metadata": {},
   "source": [
    "Now comes the first step -Doc Preprocessing. Before we create our own word embedding based on the input texts, we need to preprocess the text so that it complies with the input format as Gensim requires. It involves multiple steps starting from word tokenization, bi-gram detection, lemmatization etc..\n",
    "\n",
    "Here, I wrote a python class called **DocProcess**. This class implements all the nitty-gritty jobs mentioned above for us under the hood, such as:\n",
    "\n",
    "1. First, the class takes in a series of texts, then tokenizes the text and removes all punctuations.\n",
    "\n",
    "2. It has the option build_bi, meaning whether to build up bi-gram, function adopted from Gensim. The default is False, if option build_bi is set to True, then the class will train a bi-gram detector and create bi-gram words for the text.\n",
    "\n",
    "3. Now, all the processed tokens are concatenated back to form a sentence again.\n",
    "\n",
    "4. The texts are tokenized once again, but this time, both **stop words** and **parts of speech** that are not allowed in the text will be removed and all tokens are **lemmatized**. These tokens are stored as `self.doc_words` - list of the tokens for each text(doc).\n",
    "\n",
    "5. Finally, these `self.doc_words` are wrapped up into **TaggedDocument**, a object type in Gensim for later use in doc2vec training. It's stored in `self.tagdocs`."
   ]
  },
  {
   "cell_type": "code",
   "execution_count": 9,
   "metadata": {},
   "outputs": [
    {
     "name": "stderr",
     "output_type": "stream",
     "text": [
      "[nltk_data] Downloading package stopwords to /home/nick/nltk_data...\n",
      "[nltk_data]   Package stopwords is already up-to-date!\n"
     ]
    }
   ],
   "source": [
    "nlp = en_core_web_lg.load()\n",
    "\n",
    "nltk.download('stopwords')\n",
    "\n",
    "\n",
    "stop_words = set(stopwords.words('english'))"
   ]
  },
  {
   "cell_type": "code",
   "execution_count": 10,
   "metadata": {},
   "outputs": [],
   "source": [
    "#stop_words.remove('not')"
   ]
  },
  {
   "cell_type": "code",
   "execution_count": 11,
   "metadata": {},
   "outputs": [
    {
     "name": "stdout",
     "output_type": "stream",
     "text": [
      "{\"don't\", 'so', 'while', 'for', 'once', 'are', \"it's\", 'after', 'been', 'how', 'didn', 'yourselves', 'of', 't', 'into', \"she's\", \"doesn't\", \"shan't\", 'hadn', 'over', 'theirs', 'through', 'these', 'did', 'ourselves', 'down', 'other', \"you'd\", 'some', 'y', 'before', 'own', 'who', \"won't\", 've', 'our', 'all', 'was', 'had', 'both', 'mustn', 'she', 'up', 'doing', 'can', 'shan', 'his', 'we', \"hadn't\", \"should've\", 'myself', 'wouldn', 'your', 'those', 'couldn', 'being', 'itself', 'themselves', 'does', 'me', 'don', \"aren't\", 'my', 'then', 'with', 'such', 'only', 'mightn', 'won', \"weren't\", \"couldn't\", 'o', 'needn', 'it', 'that', 'the', 'against', 'hasn', 'more', 'am', 'will', 'ours', 'hers', 'be', 'and', 'each', 'out', 'is', 'because', 'below', 're', 'which', 'isn', 'ain', 'if', 'an', 'he', \"mightn't\", 'but', 'm', 'you', 'have', 'll', 'why', \"isn't\", \"needn't\", 'at', 'most', 'than', 'him', 'to', 'until', 'where', 'too', 'has', \"mustn't\", 'between', 'wasn', 'any', 'further', 'on', 'here', 'from', 'just', 'this', 'shouldn', \"you've\", 'about', 'in', 'now', 'weren', 'a', \"you're\", 'not', 'same', \"that'll\", 'yours', 'her', 'or', 'there', 'haven', 'its', \"haven't\", 'their', 'what', 'ma', 'd', 'very', 'whom', 'when', 'as', 'they', 'aren', 'doesn', 'again', \"wouldn't\", 'having', 'do', 'few', \"hasn't\", 'yourself', \"wasn't\", \"didn't\", 'herself', 'above', \"shouldn't\", 's', 'no', 'i', 'off', 'himself', 'by', \"you'll\", 'nor', 'them', 'were', 'should', 'during', 'under'}\n"
     ]
    }
   ],
   "source": [
    "print(stop_words)"
   ]
  },
  {
   "cell_type": "code",
   "execution_count": 12,
   "metadata": {},
   "outputs": [
    {
     "name": "stdout",
     "output_type": "stream",
     "text": [
      "There are 190 reviews which include atleast one url\n"
     ]
    },
    {
     "data": {
      "text/plain": [
       "Ttest_indResult(statistic=1.4024737926809745, pvalue=0.1607801273205851)"
      ]
     },
     "execution_count": 12,
     "metadata": {},
     "output_type": "execute_result"
    },
    {
     "data": {
      "image/png": "[encoded data removed]",
      "text/plain": [
       "<Figure size 432x288 with 1 Axes>"
      ]
     },
     "metadata": {},
     "output_type": "display_data"
    }
   ],
   "source": [
    "import re\n",
    "\n",
    "def check_url(text):\n",
    "\n",
    "# Regular expression for url\n",
    "\n",
    "    re_equ = r\"(?i)\\b((?:https?://|www\\d{0,3}[.]|[a-z0-9.\\-]+[.][a-z]{2,4}/)(?:[^\\s()<>]+|\\(([^\\s()<>]+|(\\([^\\s()<>]+\\)))*\\))+(?:\\(([^\\s()<>]+|(\\([^\\s()<>]+\\)))*\\)|[^\\s`!()\\[\\]{};:'\\\".,<>?«»“”‘’]))\"\n",
    "\n",
    "    ck_url = re.findall(re_equ, text)\n",
    "\n",
    "    if ck_url:\n",
    "        return 1\n",
    "    else:\n",
    "        return 0\n",
    "       \n",
    "\n",
    "df_temp = df.copy()\n",
    "df_temp['contains_url'] = df_temp['review'].apply(check_url)\n",
    "\n",
    "print(\"There are\", sum(df_temp['contains_url']), \"reviews which include atleast one url\")\n",
    "\n",
    "sns.set_theme(style=\"whitegrid\")\n",
    "tips = sns.load_dataset(\"tips\")\n",
    "ax = sns.barplot(x=\"sentiment\", y=\"contains_url\", data=df_temp)\n",
    "\n",
    "x_pos = df_temp[df_temp['sentiment'] == 'positive']['contains_url']\n",
    "x_neg = df_temp[df_temp['sentiment'] == 'negative']['contains_url']\n",
    "\n",
    "\n",
    "from scipy import stats\n",
    "\n",
    "# two-side t-test with sample with identical means\n",
    "stats.ttest_ind(x_pos, x_neg,equal_var=False)\n",
    "# The t-test shows that a p-value larger than a chosen threshold (e.g. 5% or 1%) indicates that our observation is not so unlikely to have occurred by chance. Therefore, we do not reject the null hypothesis of equal population means, and therefore since only a few reviews include links-urls it is not beneficial to keep a token for the urls in the tokenization process. \n",
    "# Thus, all urls will be thrown away during the pre-processing phase."
   ]
  },
  {
   "cell_type": "markdown",
   "metadata": {},
   "source": [
    "The t-test shows that a p-value larger than a chosen threshold (e.g. 5% or 1%) indicates that our observation is not so unlikely to have occurred by chance. Therefore, we do not reject the null hypothesis of equal population means, and therefore since only a few reviews include links-urls it is not beneficial to keep a token for the urls in the tokenization process. Thus, all urls will be thrown away during the pre-processing phase."
   ]
  },
  {
   "cell_type": "code",
   "execution_count": 13,
   "metadata": {},
   "outputs": [
    {
     "name": "stdout",
     "output_type": "stream",
     "text": [
      "Pickle with the documents-reviews already exists\n"
     ]
    }
   ],
   "source": [
    "def expand_contractions(text):\n",
    "\treturn contractions.fix(text)\n",
    "\n",
    "class DocPreprocess(object):\n",
    "\n",
    "\tdef __init__(self,\n",
    "\t\t\t\t nlp,\n",
    "\t\t\t\t stop_words,\n",
    "\t\t\t\t docs,\n",
    "\t\t\t\t labels,\n",
    "\t\t\t\t build_bi=False,\n",
    "\t\t\t\t min_count=5,\n",
    "\t\t\t\t threshold=10,\n",
    "\t\t\t\t allowed_postags=['ADV', 'VERB', 'ADJ', 'NOUN', 'PROPN', 'NUM']):\n",
    "# \t\t\t\t not_allowed_postags = ['AUX', 'SCONJ', 'PUNCT', 'X', 'SYM'] # There are more\n",
    "\n",
    "\t\tself.nlp = nlp  # spacy nlp object\n",
    "\t\tself.stop_words = stop_words  # spacy.lang.en.stop_words.STOP_WORDS\n",
    "\t\tself.docs = docs  # docs must be list or series of documents\n",
    "\t\tself.labels = labels # labels must be list or or numpy array or series of labels\n",
    "\t\tself.doc_ids = np.arange(len(docs))\n",
    "\t\tself.parsed_docs = [BeautifulSoup(doc, \"html.parser\").get_text() for doc in self.docs] # Removes html tags\n",
    "\t\tself.parsed_docs = [re.sub(r'http\\S+', '', doc) for doc in self.parsed_docs] #remove urls\n",
    "\t\tself.parsed_docs = [re.sub(r'www.\\S+', '', doc) for doc in self.parsed_docs] #remove urls starting with 'www.'\n",
    "\t\tself.parsed_docs = [expand_contractions(doc) for doc in self.parsed_docs] # Expanding chatwords and contracts clearing contractions\n",
    "\t\t# This lowercases, tokenizes and remove words that their len is greater than 15 or lower than 2 (e.g. 'I')\n",
    "\t\tself.simple_doc_tokens = [gensim.utils.simple_preprocess(doc, deacc=True) for doc in self.parsed_docs]\n",
    "\n",
    "\t\tif build_bi:\n",
    "\t\t\tself.bi_detector = self.build_bi_detect(self.simple_doc_tokens, min_count=min_count, threshold=threshold)\n",
    "\t\t\tself.new_docs = self.make_bigram_doc(self.bi_detector, self.simple_doc_tokens)\n",
    "\t\telse:\n",
    "\t\t\tself.new_docs = self.make_simple_doc(self.simple_doc_tokens)\n",
    "\t\tself.doc_words = [self.lemmatize(doc, allowed_postags=allowed_postags) for doc in self.new_docs]\n",
    "\t\tself.tagdocs = [TaggedDocument(words=words, tags=[tag]) for words, tag in zip(self.doc_words, self.doc_ids)]\n",
    "\n",
    "\tdef build_bi_detect(self, simple_doc_tokens, min_count, threshold):\n",
    "\t\tbi_ = gensim.models.phrases.Phrases(simple_doc_tokens, min_count=min_count, threshold=threshold)\n",
    "\t\tbi_detector = gensim.models.phrases.Phraser(bi_)  # wrapper enhance efficiency\n",
    "\t\treturn bi_detector\n",
    "\n",
    "    \n",
    "\tdef make_simple_doc(self, simple_doc_tokens):\n",
    "\t\tsimple_docs = []\n",
    "\t\tfor doc_tokens in simple_doc_tokens:\n",
    "\t\t\tsimple = \" \".join(doc_tokens)  # concatenate back to a sentence\n",
    "\t\t\tsimple_docs.append(simple)\n",
    "\t\treturn simple_docs\n",
    "    \n",
    "\n",
    "\tdef make_bigram_doc(self, bi_detector, simple_doc_tokens):\n",
    "\t\tbi_doc_tokens = [bi_detector[doc_tokens] for doc_tokens in simple_doc_tokens]\n",
    "\t\tbi_docs = []\n",
    "\t\tfor bi_tokens in bi_doc_tokens:\n",
    "\t\t\tbi_doc = \" \".join(bi_tokens)  # concatenate back to a sentence\n",
    "\t\t\tbi_docs.append(bi_doc)\n",
    "\t\treturn bi_docs\n",
    "\n",
    "\n",
    "\tdef lemmatize(self, doc, allowed_postags):\n",
    "\t\t\"\"\"\n",
    "\t\tLemmatize words and remove stop_words.\n",
    "\t\t:param doc: text\n",
    "\t\t:param allowed_postags: list of pos tags\n",
    "\t\t:return:\n",
    "\t\t\tlist of tokens\n",
    "\t\t\"\"\"\n",
    "\t\tdoc = self.nlp(doc)\n",
    "\t\ttokens = [token.lemma_ for token in doc if (token.pos_ in allowed_postags) and (token.text not in self.stop_words)]\n",
    "\t\treturn tokens\n",
    "\n",
    "if not os.path.exists('./' + PICKLE_FILE):\n",
    "    preprocessed_docs = DocPreprocess(nlp, stop_words, df['review'], df['sentiment'], build_bi=True)\n",
    "else:\n",
    "    print(\"Pickle with the documents-reviews already exists\")"
   ]
  },
  {
   "cell_type": "code",
   "execution_count": 14,
   "metadata": {},
   "outputs": [
    {
     "name": "stdout",
     "output_type": "stream",
     "text": [
      "Reading documents from pickle\n"
     ]
    }
   ],
   "source": [
    "# Saving to pickle\n",
    "\n",
    "if os.path.exists('./' + PICKLE_FILE):\n",
    "    # Read the saved docs as a pickle.\n",
    "    print('Reading documents from pickle')\n",
    "    with open(os.path.join(PICKLE_FILE), 'rb') as f:\n",
    "        preprocessed_docs = pickle.load(f)\n",
    "else:  \n",
    "    # Save preprocessed_docs as a pickle.\n",
    "    print('Saving documents as a pickle')\n",
    "    with open(os.path.join(PICKLE_FILE), 'wb') as f:\n",
    "        pickle.dump(preprocessed_docs, f, pickle.HIGHEST_PROTOCOL)"
   ]
  },
  {
   "cell_type": "markdown",
   "metadata": {},
   "source": [
    "## Struacture of Preprocessed Docs"
   ]
  },
  {
   "cell_type": "code",
   "execution_count": 15,
   "metadata": {},
   "outputs": [
    {
     "data": {
      "text/plain": [
       "__main__.DocPreprocess"
      ]
     },
     "execution_count": 15,
     "metadata": {},
     "output_type": "execute_result"
    }
   ],
   "source": [
    "# Type of object preprocessed documents\n",
    "type(preprocessed_docs)"
   ]
  },
  {
   "cell_type": "code",
   "execution_count": 16,
   "metadata": {},
   "outputs": [
    {
     "data": {
      "text/plain": [
       "49582"
      ]
     },
     "execution_count": 16,
     "metadata": {},
     "output_type": "execute_result"
    }
   ],
   "source": [
    "len(preprocessed_docs.tagdocs)"
   ]
  },
  {
   "cell_type": "code",
   "execution_count": 17,
   "metadata": {
    "scrolled": true
   },
   "outputs": [
    {
     "name": "stdout",
     "output_type": "stream",
     "text": [
      "A tagged document object: \n",
      "TaggedDocument(['one', 'other_reviewer', 'mention', 'after_watche', 'episode', 'hook', 'right', 'happen', 'first', 'thing', 'struck_me', 'oz', 'brutality', 'unflinching', 'scene', 'violence', 'set', 'right', 'word', 'go', 'trust_me', 'show', 'faint_hearte', 'timid', 'show', 'pull', 'no_punche', 'regard', 'drug', 'sex', 'violence', 'hardcore', 'classic', 'use', 'word', 'call', 'oz', 'nickname', 'give', 'oswald', 'maximum_security', 'state', 'penitentary', 'focuses_mainly', 'experimental', 'section', 'prison', 'cell', 'glass', 'front', 'face', 'inwards', 'privacy', 'high', 'agenda', 'city', 'home', 'many', 'aryans', 'muslims', 'gangstas', 'latinos', 'christians', 'italians', 'irish', 'scuffle', 'death', 'stare', 'dodgy', 'dealing', 'shady', 'agreement', 'never', 'far_away', 'say', 'main', 'appeal', 'show', 'due', 'fact', 'go', 'show', 'dare', 'forget', 'pretty', 'picture', 'paint', 'mainstream_audience', 'forget', 'charm', 'forget', 'romance', 'mess', 'first', 'episode', 'ever', 'see', 'struck_me', 'nasty', 'surreal', 'say', 'ready', 'watch', 'developed', 'taste', 'oz', 'get', 'accustomed', 'high', 'level', 'graphic_violence', 'violence', 'injustice', 'crooked', 'guard', 'sell', 'nickel', 'inmate', 'kill', 'order', 'get', 'away', 'well_mannere', 'middle_class', 'inmate', 'prison', 'bitch', 'due', 'lack', 'street', 'skill', 'prison', 'experience', 'watch', 'oz', 'become', 'comfortable', 'uncomfortable', 'view', 'get', 'touch', 'darker_side'], [0]) \n",
      "\n",
      "Words of the document:\n",
      "['one', 'other_reviewer', 'mention', 'after_watche', 'episode', 'hook', 'right', 'happen', 'first', 'thing', 'struck_me', 'oz', 'brutality', 'unflinching', 'scene', 'violence', 'set', 'right', 'word', 'go', 'trust_me', 'show', 'faint_hearte', 'timid', 'show', 'pull', 'no_punche', 'regard', 'drug', 'sex', 'violence', 'hardcore', 'classic', 'use', 'word', 'call', 'oz', 'nickname', 'give', 'oswald', 'maximum_security', 'state', 'penitentary', 'focuses_mainly', 'experimental', 'section', 'prison', 'cell', 'glass', 'front', 'face', 'inwards', 'privacy', 'high', 'agenda', 'city', 'home', 'many', 'aryans', 'muslims', 'gangstas', 'latinos', 'christians', 'italians', 'irish', 'scuffle', 'death', 'stare', 'dodgy', 'dealing', 'shady', 'agreement', 'never', 'far_away', 'say', 'main', 'appeal', 'show', 'due', 'fact', 'go', 'show', 'dare', 'forget', 'pretty', 'picture', 'paint', 'mainstream_audience', 'forget', 'charm', 'forget', 'romance', 'mess', 'first', 'episode', 'ever', 'see', 'struck_me', 'nasty', 'surreal', 'say', 'ready', 'watch', 'developed', 'taste', 'oz', 'get', 'accustomed', 'high', 'level', 'graphic_violence', 'violence', 'injustice', 'crooked', 'guard', 'sell', 'nickel', 'inmate', 'kill', 'order', 'get', 'away', 'well_mannere', 'middle_class', 'inmate', 'prison', 'bitch', 'due', 'lack', 'street', 'skill', 'prison', 'experience', 'watch', 'oz', 'become', 'comfortable', 'uncomfortable', 'view', 'get', 'touch', 'darker_side'] \n",
      "\n",
      "Sentiment-label of tagged document: \n",
      "positive \n",
      "\n"
     ]
    }
   ],
   "source": [
    "# Example of a document\n",
    "doc_id = 0 # e.g. id = 3 \n",
    "\n",
    "print('A tagged document object: ')\n",
    "print(preprocessed_docs.tagdocs[doc_id], '\\n')\n",
    "\n",
    "print('Words of the document:')\n",
    "print(preprocessed_docs.doc_words[doc_id], '\\n')\n",
    "\n",
    "print('Sentiment-label of tagged document: ')\n",
    "print(preprocessed_docs.labels.iloc[doc_id], '\\n')"
   ]
  },
  {
   "cell_type": "markdown",
   "metadata": {},
   "source": [
    "# Building the basic bow and TFidf models"
   ]
  },
  {
   "cell_type": "code",
   "execution_count": 18,
   "metadata": {},
   "outputs": [],
   "source": [
    "# from sklearn.model_selection import train_test_split\n",
    "# from sklearn.preprocessing import LabelBinarizer\n",
    "\n",
    "\n",
    "# # Getting the features (tokens-words/ngrams)\n",
    "# X = preprocessed_docs.doc_words\n",
    "\n",
    "# # Labeling the sentient data\n",
    "# y = LabelBinarizer().fit_transform(df['sentiment']).ravel()\n",
    "\n",
    "# # Notice how we used stratification over the train-test split\n",
    "# X_train, X_test, y_train, y_test = train_test_split(X, y, test_size=0.20, random_state=random_state, stratify=y)"
   ]
  },
  {
   "cell_type": "markdown",
   "metadata": {},
   "source": [
    "## Bow model"
   ]
  },
  {
   "cell_type": "code",
   "execution_count": 19,
   "metadata": {},
   "outputs": [],
   "source": [
    "# # Disabling lowercase since the data was already lowercased\n",
    "# # Using deaful utf-8 encoding as it was mentioned in the lectures\n",
    "# from sklearn.feature_extraction.text import CountVectorizer\n",
    "# vectorizer = CountVectorizer(analyzer=lambda x: x, lowercase=False, encoding='utf-8')\n",
    "\n",
    "# X_train_bow = vectorizer.fit_transform(X_train)\n",
    "# print('X_train_bow:', X_train_bow.shape)\n",
    "# X_test_bow = vectorizer.transform(X_test)\n",
    "# print('X_test_bow:', X_test_bow.shape)"
   ]
  },
  {
   "cell_type": "code",
   "execution_count": 20,
   "metadata": {},
   "outputs": [],
   "source": [
    "# from sklearn.linear_model import LogisticRegression\n",
    "\n",
    "# # Training the model\n",
    "# lr_2 = LogisticRegression(penalty='l2', max_iter=500, random_state=random_state,verbose=10)\n",
    "\n",
    "# # Fitting the model for TF-IDFfrom sklearn.linear_model import LogisticRegression\n",
    "# from sklearn.metrics import accuracy_score\n",
    "\n",
    "# # Training the model\n",
    "# lr_1 = LogisticRegression(penalty='l2', max_iter=500, random_state=random_state)\n",
    "\n",
    "# # Fitting the model for Bag of words\n",
    "# lr_bow = lr_1.fit(X_train_bow, y_train)\n",
    "# # Predicting the test data for Bag of words\n",
    "# lr_bow_predict = lr_1.predict(X_test_bow)\n",
    "# # Accuracy score for bag of word\n",
    "# lr_bow_score = accuracy_score(y_test,lr_bow_predict)\n",
    "# print(\"lr_bow_score :\", lr_bow_score)"
   ]
  },
  {
   "cell_type": "markdown",
   "metadata": {},
   "source": [
    "## TF-IDF model"
   ]
  },
  {
   "cell_type": "code",
   "execution_count": 21,
   "metadata": {},
   "outputs": [],
   "source": [
    "# # Disabling lowercase since the data was already lowercased\n",
    "# # Using deaful utf-8 encoding as it was mentioned in the lectures\n",
    "# from sklearn.feature_extraction.text import TfidfVectorizer\n",
    "# vectorizer = TfidfVectorizer(analyzer=lambda x: x, lowercase=False, encoding='utf-8')\n",
    "\n",
    "# X_train_tfidf = vectorizer.fit_transform(X_train)\n",
    "# print('X_train_tfidf:', X_train_tfidf.shape)\n",
    "# X_test_tfidf= vectorizer.transform(X_test)\n",
    "# print('X_test_tfidf:', X_test_tfidf.shape)"
   ]
  },
  {
   "cell_type": "code",
   "execution_count": 22,
   "metadata": {},
   "outputs": [],
   "source": [
    "# from sklearn.linear_model import LogisticRegression\n",
    "\n",
    "# # Training the model\n",
    "# lr_2 = LogisticRegression(penalty='l2', max_iter=500, random_state=random_state,verbose=10)\n",
    "\n",
    "# # Fitting the model for TF-IDFfrom sklearn.linear_model import LogisticRegression\n",
    "# from sklearn.metrics import accuracy_score\n",
    "\n",
    "# # Training the model\n",
    "# lr_1 = LogisticRegression(penalty='l2', max_iter=500, random_state=random_state)\n",
    "\n",
    "# # Fitting the model for tfidf\n",
    "# lr_tfidf = lr_1.fit(X_train_tfidf, y_train)\n",
    "# # Predicting the test data for tf-idf\n",
    "# lr_tfidf_predict = lr_1.predict(X_test_tfidf)\n",
    "# # Accuracy score for tfidf\n",
    "# lr_tfidf_score = accuracy_score(y_test,lr_tfidf_predict)\n",
    "# print(\"lr_tfidf_score :\", lr_tfidf_score)"
   ]
  },
  {
   "cell_type": "markdown",
   "metadata": {},
   "source": [
    "# Build up Word Model - Word2vec"
   ]
  },
  {
   "cell_type": "markdown",
   "metadata": {},
   "source": [
    "Since the text are properly processed, we're ready to train our word2vec via Gensim. Here I chose the dimension size 100 for each word embedding and window size of 5. The training iterates for 100 times."
   ]
  },
  {
   "cell_type": "code",
   "execution_count": 23,
   "metadata": {
    "scrolled": true
   },
   "outputs": [
    {
     "name": "stdout",
     "output_type": "stream",
     "text": [
      "Number of cpu cores to work: 7\n"
     ]
    }
   ],
   "source": [
    "import multiprocessing\n",
    "import sys\n",
    "from gensim.models.word2vec import Word2Vec\n",
    "\n",
    "core_workers = multiprocessing.cpu_count() - 1 # Leave one core out\n",
    "print('Number of cpu cores to work: {}'.format(core_workers))\n",
    "assert gensim.models.doc2vec.FAST_VERSION > -1, \"This will be very slow otherwise.\""
   ]
  },
  {
   "cell_type": "code",
   "execution_count": 24,
   "metadata": {},
   "outputs": [
    {
     "name": "stdout",
     "output_type": "stream",
     "text": [
      "File with the word2vec_reviews model already exists\n"
     ]
    }
   ],
   "source": [
    "class callback(CallbackAny2Vec):\n",
    "    '''Callback to print loss after every epoch.'''\n",
    "\n",
    "    def __init__(self):\n",
    "        self.epoch = 0\n",
    "        self.loss_to_be_subed = 0\n",
    "        self.start = timeit.default_timer()\n",
    "        self.stop = None\n",
    "\n",
    "    def on_epoch_end(self, model):\n",
    "        loss = model.get_latest_training_loss()\n",
    "        loss_now = loss - self.loss_to_be_subed\n",
    "        self.loss_to_be_subed = loss\n",
    "        self.stop = timeit.default_timer()\n",
    "        print('Loss after epoch {}: {},  Epoch time: {} seconds'.format(self.epoch, loss_now, str(self.stop - self.start)))\n",
    "        self.epoch += 1\n",
    "        self.start = timeit.default_timer()\n",
    "\n",
    "\n",
    "if not os.path.exists('./' + WORD2VEC_FILE):\n",
    "    word_model = Word2Vec(preprocessed_docs.doc_words, min_count=2, vector_size=VECTOR_SIZE, window=5, workers=core_workers, epochs=175, \n",
    "                      compute_loss=True, callbacks=[callback()])\n",
    "else:\n",
    "    print(\"File with the word2vec_reviews model already exists\")"
   ]
  },
  {
   "cell_type": "code",
   "execution_count": 25,
   "metadata": {},
   "outputs": [
    {
     "name": "stdout",
     "output_type": "stream",
     "text": [
      "Reading model from file\n",
      "Done\n"
     ]
    }
   ],
   "source": [
    "# Saving or loading word2vec model to/from a file\n",
    "\n",
    "if os.path.exists('./' + WORD2VEC_FILE):\n",
    "    # Read the saved model\n",
    "    print('Reading model from file')\n",
    "    try:\n",
    "        word_model = gensim.models.Word2Vec.load(WORD2VEC_FILE)\n",
    "        print('Done')\n",
    "    except Exception as e:    \n",
    "        print('Could not load file', e)\n",
    "else:  \n",
    "    # Save word2vec model object as a model file.\n",
    "    print('Saving documents as a pickle')\n",
    "    try:\n",
    "        word_model.save(WORD2VEC_FILE)\n",
    "        print('Done')\n",
    "    except Exception as e:\n",
    "        print('Could not save file', e)\n",
    "        "
   ]
  },
  {
   "cell_type": "markdown",
   "metadata": {},
   "source": [
    "# Averaging Word Embedding for Each Doc"
   ]
  },
  {
   "cell_type": "markdown",
   "metadata": {},
   "source": [
    "OK! Now we have the word embedding at hand, we'll be using the word embedding to compute for representative vector for whole text. It then serves as feature input for text classification model. There are various ways to come up with doc vector. First, let's start with the simple one."
   ]
  },
  {
   "cell_type": "markdown",
   "metadata": {},
   "source": [
    "## Simple Averaging on Word Embedding"
   ]
  },
  {
   "cell_type": "markdown",
   "metadata": {},
   "source": [
    "This is a rather straightforward method. It directly averages all word embedding occurred in the text. Here I adapted the code from these two posts [2](http://nadbordrozd.github.io/blog/2016/05/20/text-classification-with-word2vec/), [3](https://towardsdatascience.com/multi-class-text-classification-model-comparison-and-selection-5eb066197568) and created the python class **MeanWordEmbeddingVectorizer**."
   ]
  },
  {
   "cell_type": "code",
   "execution_count": 26,
   "metadata": {
    "scrolled": false
   },
   "outputs": [
    {
     "name": "stdout",
     "output_type": "stream",
     "text": [
      "File with the average word2vec model already exists\n"
     ]
    }
   ],
   "source": [
    "class MeanEmbeddingVectorizer(object):\n",
    "\n",
    "\tdef __init__(self, word_model):\n",
    "\t\tself.word_model = word_model\n",
    "\t\tself.vector_size = word_model.wv.vector_size\n",
    "\n",
    "\tdef fit(self):  # comply with scikit-learn transformer requirement\n",
    "\t\treturn self\n",
    "\n",
    "\tdef transform(self, docs):  # comply with scikit-learn transformer requirement\n",
    "\t\tdoc_word_vector = self.word_average_list(docs)\n",
    "\t\treturn doc_word_vector\n",
    "\n",
    "\tdef word_average(self, sent):\n",
    "\t\t\"\"\"\n",
    "\t\tCompute average word vector for a single doc/sentence.\n",
    "\t\t:param sent: list of sentence tokens\n",
    "\t\t:return:\n",
    "\t\t\tmean: float of averaging word vectors\n",
    "\t\t\"\"\"\n",
    "\t\tmean = []\n",
    "\t\tfor word in sent:\n",
    "\t\t\tif word in self.word_model.wv:\n",
    "\t\t\t\tmean.append(self.word_model.wv.get_vector(word))\n",
    "\n",
    "\t\tif not mean:  # empty words\n",
    "\t\t\t# If a text is empty, return a vector of zeros.\n",
    "\t\t\tlogging.warning(\"cannot compute average owing to no vector for {}\".format(sent))\n",
    "\t\t\treturn np.zeros(self.vector_size)\n",
    "\t\telse:\n",
    "\t\t\tmean = np.array(mean).mean(axis=0)\n",
    "\t\t\treturn mean\n",
    "\n",
    "\n",
    "\tdef word_average_list(self, docs):\n",
    "\t\t\"\"\"\n",
    "\t\tCompute average word vector for multiple docs, where docs had been tokenized.\n",
    "\t\t:param docs: list of sentence in list of separated tokens\n",
    "\t\t:return:\n",
    "\t\t\tarray of average word vector in shape (len(docs),)\n",
    "\t\t\"\"\"\n",
    "\t\treturn np.vstack([self.word_average(sent) for sent in docs])\n",
    "    \n",
    "    \n",
    "if not os.path.exists('./' + MEAN_EMBEDDING_FILE):\n",
    "    mean_vec_tr = MeanEmbeddingVectorizer(word_model)\n",
    "    doc_vec = mean_vec_tr.transform(preprocessed_docs.doc_words)\n",
    "else:\n",
    "    print(\"File with the average word2vec model already exists\")"
   ]
  },
  {
   "cell_type": "code",
   "execution_count": 27,
   "metadata": {},
   "outputs": [
    {
     "name": "stdout",
     "output_type": "stream",
     "text": [
      "Reading model from file\n",
      "Done\n",
      "Shape of word-mean doc2vec: \n"
     ]
    },
    {
     "data": {
      "text/plain": [
       "(49582, 300)"
      ]
     },
     "metadata": {},
     "output_type": "display_data"
    }
   ],
   "source": [
    "# Saving or loading averaging word2vec model to/from a file\n",
    "if os.path.exists('./' + MEAN_EMBEDDING_FILE):\n",
    "    # Read the saved model from a csv file\n",
    "    print('Reading model from file')\n",
    "    try:\n",
    "        doc_vec = genfromtxt(MEAN_EMBEDDING_FILE, delimiter=',')\n",
    "        print('Done')\n",
    "    except Exception as e:    \n",
    "        print('Could not load file', e)\n",
    "else:  \n",
    "    # Save model object as a csv file\n",
    "    print('Saving documents as a pickle')\n",
    "    try:\n",
    "        np.savetxt(os.path.join(MEAN_EMBEDDING_FILE), doc_vec, delimiter=',')\n",
    "        print('Done')\n",
    "    except Exception as e:\n",
    "        print('Could not save file', e)\n",
    "\n",
    "print('Shape of word-mean doc2vec: ')\n",
    "display(doc_vec.shape)"
   ]
  },
  {
   "cell_type": "markdown",
   "metadata": {},
   "source": [
    "## TF-IDF Weighted Averaging on Word Embedding"
   ]
  },
  {
   "cell_type": "markdown",
   "metadata": {},
   "source": [
    "Not just satisfied with simple averaging? We can further adopt TF-IDF as weights for each word embedding. This will amplify the role of significant word in computing doc vector. Here, the whole process is implemented under class **TfidfEmbeddingVectorizer**. Again, the code is adapted from the same post source.\n",
    "\n",
    "One thing worth noted is that, the Term Frequency has already been considered when we conduct averaging over the text, but not Inverse Document Frequency, thus the weight literally being the IDF, and the unseen word is assigned the max IDF in default setting.\n",
    "\n",
    "And the other thing to note is that we need to fit the class with tokens first, for it must loop through all the words before hand in order to compute IDF."
   ]
  },
  {
   "cell_type": "code",
   "execution_count": 28,
   "metadata": {},
   "outputs": [
    {
     "name": "stdout",
     "output_type": "stream",
     "text": [
      "File with the tf-idf word2vec model already exists\n"
     ]
    }
   ],
   "source": [
    "class TfidfEmbeddingVectorizer(object):\n",
    "\n",
    "\tdef __init__(self, word_model):\n",
    "\n",
    "\t\tself.word_model = word_model\n",
    "\t\tself.word_idf_weight = None\n",
    "\t\tself.vector_size = word_model.wv.vector_size\n",
    "\n",
    "\tdef fit(self, docs):  # comply with scikit-learn transformer requirement\n",
    "\t\t\"\"\"\n",
    "\t\tFit in a list of docs, which had been preprocessed and tokenized,\n",
    "\t\tsuch as word bi-grammed, stop-words removed, lemmatized, part of speech filtered.\n",
    "\t\tThen build up a tfidf model to compute each word's idf as its weight.\n",
    "\t\tNoted that tf weight is already involved when constructing average word vectors, and thus omitted.\n",
    "\t\t:param\n",
    "\t\t\tpre_processed_docs: list of docs, which are tokenized\n",
    "\t\t:return:\n",
    "\t\t\tself\n",
    "\t\t\"\"\"\n",
    "\n",
    "\t\ttext_docs = []\n",
    "\t\tfor doc in docs:\n",
    "\t\t\ttext_docs.append(\" \".join(doc))\n",
    "\n",
    "\t\ttfidf = TfidfVectorizer()\n",
    "\t\ttfidf.fit(text_docs)  # must be list of text string\n",
    "\n",
    "\t\t# if a word was never seen - it must be at least as infrequent\n",
    "\t\t# as any of the known words - so the default idf is the max of\n",
    "\t\t# known idf's\n",
    "\t\tmax_idf = max(tfidf.idf_)  # used as default value for defaultdict\n",
    "\t\tself.word_idf_weight = defaultdict(lambda: max_idf,\n",
    "\t\t\t\t\t\t\t\t\t\t   [(word, tfidf.idf_[i]) for word, i in tfidf.vocabulary_.items()])\n",
    "\t\treturn self\n",
    "\n",
    "\n",
    "\tdef transform(self, docs):  # comply with scikit-learn transformer requirement\n",
    "\t\tdoc_word_vector = self.word_average_list(docs)\n",
    "\t\treturn doc_word_vector\n",
    "\n",
    "\n",
    "\tdef word_average(self, sent):\n",
    "\t\t\"\"\"\n",
    "\t\tCompute average word vector for a single doc/sentence.\n",
    "\t\t:param sent: list of sentence tokens\n",
    "\t\t:return:\n",
    "\t\t\tmean: float of averaging word vectors\n",
    "\t\t\"\"\"\n",
    "\n",
    "\t\tmean = []\n",
    "\t\tfor word in sent:\n",
    "\t\t\tif word in self.word_model.wv.index_to_key:\n",
    "\t\t\t\tmean.append(self.word_model.wv.get_vector(word) * self.word_idf_weight[word])  # idf weighted\n",
    "\n",
    "\t\tif not mean:  # empty words\n",
    "\t\t\t# If a text is empty, return a vector of zeros.\n",
    "\t\t\tlogging.warning(\"cannot compute average owing to no vector for {}\".format(sent))\n",
    "\t\t\treturn np.zeros(self.vector_size)\n",
    "\t\telse:\n",
    "\t\t\tmean = np.array(mean).mean(axis=0)\n",
    "\t\t\treturn mean\n",
    "\n",
    "\n",
    "\tdef word_average_list(self, docs):\n",
    "\t\t\"\"\"\n",
    "\t\tCompute average word vector for multiple docs, where docs had been tokenized.\n",
    "\t\t:param docs: list of sentence in list of separated tokens\n",
    "\t\t:return:\n",
    "\t\t\tarray of average word vector in shape (len(docs),)\n",
    "\t\t\"\"\"\n",
    "\t\treturn np.vstack([self.word_average(sent) for sent in docs])\n",
    "\n",
    "if not os.path.exists('./' + TFIDF_EMBEDDING_FILE):\n",
    "    tfidf_vec_tr = TfidfEmbeddingVectorizer(word_model)\n",
    "    tfidf_vec_tr.fit(preprocessed_docs.doc_words)  # fit tfidf model first\n",
    "    tfidf_doc_vec = tfidf_vec_tr.transform(preprocessed_docs.doc_words)\n",
    "else:\n",
    "    print(\"File with the tf-idf word2vec model already exists\")"
   ]
  },
  {
   "cell_type": "code",
   "execution_count": 29,
   "metadata": {},
   "outputs": [
    {
     "name": "stdout",
     "output_type": "stream",
     "text": [
      "Reading model from file\n",
      "Done\n",
      "Shape of tf-idf doc2vec: \n"
     ]
    },
    {
     "data": {
      "text/plain": [
       "(49582, 300)"
      ]
     },
     "metadata": {},
     "output_type": "display_data"
    }
   ],
   "source": [
    "# Saving or loading tf-idf word2vec model to/from a file\n",
    "if os.path.exists('./' + TFIDF_EMBEDDING_FILE):\n",
    "    # Read the saved model from a csv file\n",
    "    print('Reading model from file')\n",
    "    try:\n",
    "        tfidf_doc_vec = genfromtxt(TFIDF_EMBEDDING_FILE, delimiter=',')\n",
    "        print('Done')\n",
    "    except Exception as e:    \n",
    "        print('Could not load file', e)\n",
    "else:  \n",
    "    # Save model object as a csv file\n",
    "    print('Saving documents as a pickle')\n",
    "    try:\n",
    "        np.savetxt(os.path.join(TFIDF_EMBEDDING_FILE), tfidf_doc_vec, delimiter=',')\n",
    "        print('Done')\n",
    "    except Exception as e:\n",
    "        print('Could not save file', e)\n",
    "\n",
    "print('Shape of tf-idf doc2vec: ')\n",
    "display(tfidf_doc_vec.shape)"
   ]
  },
  {
   "cell_type": "markdown",
   "metadata": {},
   "source": [
    "## Leverage Pre-train GloVe Word Embedding"
   ]
  },
  {
   "cell_type": "markdown",
   "metadata": {},
   "source": [
    "### Load in GloVe Vector"
   ]
  },
  {
   "cell_type": "markdown",
   "metadata": {},
   "source": [
    "Let's include another option - leveraging the existing pre-trained word embedding and see how it performs in text classification. Here I follow up the instructions from [Stanford NLP course(CS224N) notebook](http://web.stanford.edu/class/cs224n/materials/Gensim%20word%20vector%20visualization.html), importing GloVe word embedding into Gensim to compute for averaging word embedding on text.\n",
    "\n",
    "As a side note, I've also tried to apply Tf-IDF weighted method on GloVe vector, but found out that the result is basically the same as the ones from TF-IDF weighted averaging doc vector. Thus, I omit the demonstration and just include simple averaging on GloVe word vector here."
   ]
  },
  {
   "cell_type": "markdown",
   "metadata": {},
   "source": [
    "<mark>**APPENDIX: The explanation for logic behind loading pre-train word vector.**</mark>\n",
    "\n",
    "The result of `datapath()` shows that Gensim will try to load in dataset from */Users/XXX/miniconda3/lib/python3.7/site-packages/gensim/test/test_data/*, and calls it `glove_vec_fi`.\n",
    "\n",
    "It then uses `get_tmpfile()` to create a temporary file path to store the word2vec `tmp_word2vec_fi`, which is converted from `glove_vec_fi`.\n",
    "\n",
    "At the final step, **KeyedVectors** then loads in the `tmp_word2vec_fi` as word model."
   ]
  },
  {
   "cell_type": "markdown",
   "metadata": {},
   "source": [
    "### Simple Averaging on GloVe Word Embedding"
   ]
  },
  {
   "cell_type": "code",
   "execution_count": 30,
   "metadata": {},
   "outputs": [
    {
     "name": "stdout",
     "output_type": "stream",
     "text": [
      "File with the average word2vec GloVe model already exists\n"
     ]
    }
   ],
   "source": [
    "class MeanEmbeddingVectorizerGlove(MeanEmbeddingVectorizer):\n",
    "\n",
    "\tdef __init__(self, word_model):\n",
    "\t\tself.word_model = word_model\n",
    "\t\tself.vector_size = word_model.vector_size\n",
    "\n",
    "\tdef word_average(self, sent):\n",
    "\t\t\"\"\"\n",
    "\t\tCompute average word vector for a single doc/sentence.\n",
    "\t\t:param sent: list of sentence tokens\n",
    "\t\t:return:\n",
    "\t\t\tmean: float of averaging word vectors\n",
    "\t\t\"\"\"\n",
    "\t\tmean = []\n",
    "\t\tfor word in sent:\n",
    "\t\t\tif word in self.word_model:\n",
    "\t\t\t\tmean.append(self.word_model.get_vector(word))\n",
    "\n",
    "\t\tif not mean:  # empty words\n",
    "\t\t\t# If a text is empty, return a vector of zeros.\n",
    "\t\t\tlogging.warning(\"cannot compute average owing to no vector for {}\".format(sent))\n",
    "\t\t\treturn np.zeros(self.vector_size)\n",
    "\t\telse:\n",
    "\t\t\tmean = np.array(mean).mean(axis=0)\n",
    "\t\t\treturn mean\n",
    "\n",
    "\n",
    "# Load in GloVe vector.\n",
    "if not os.path.exists('./' + GLOVE_EMBEDDING_FILE):\n",
    "    glove_vec_fi = datapath('/home/nick/PycharmProjects/pythonProject/Homework/glove_emb/glove.6B.300d.txt')\n",
    "    tmp_word2vec_fi = get_tmpfile('tmp_glove2word2vec.txt')\n",
    "\n",
    "    glove2word2vec(glove_vec_fi, tmp_word2vec_fi)\n",
    "\n",
    "    glove_word_model = KeyedVectors.load_word2vec_format(tmp_word2vec_fi)\n",
    "\n",
    "    # Apply word averaging on GloVe word vector.\n",
    "    glove_mean_vec_tr = MeanEmbeddingVectorizerGlove(glove_word_model)\n",
    "    glove_doc_vec = glove_mean_vec_tr.transform(preprocessed_docs.doc_words)\n",
    "else:\n",
    "    print(\"File with the average word2vec GloVe model already exists\")"
   ]
  },
  {
   "cell_type": "code",
   "execution_count": 31,
   "metadata": {},
   "outputs": [
    {
     "name": "stdout",
     "output_type": "stream",
     "text": [
      "Reading model from file\n",
      "Done\n",
      "Shape of mean glove_doc_vec: \n"
     ]
    },
    {
     "data": {
      "text/plain": [
       "(49582, 300)"
      ]
     },
     "metadata": {},
     "output_type": "display_data"
    }
   ],
   "source": [
    "# Saving or loading averaging glove model to/from a file\n",
    "if os.path.exists('./' + GLOVE_EMBEDDING_FILE):\n",
    "    # Read the saved model from a csv file\n",
    "    print('Reading model from file')\n",
    "    try:\n",
    "        glove_doc_vec = genfromtxt(GLOVE_EMBEDDING_FILE, delimiter=',')\n",
    "        print('Done')\n",
    "    except Exception as e:    \n",
    "        print('Could not load file', e)\n",
    "else:  \n",
    "    # Save model object as a csv file\n",
    "    print('Saving documents as a csv')\n",
    "    try:\n",
    "        np.savetxt(os.path.join(GLOVE_EMBEDDING_FILE), glove_doc_vec, delimiter=',')\n",
    "        print('Done')\n",
    "    except Exception as e:\n",
    "        print('Could not save file', e)\n",
    "\n",
    "print('Shape of mean glove_doc_vec: ')\n",
    "display(glove_doc_vec.shape)"
   ]
  },
  {
   "cell_type": "code",
   "execution_count": 32,
   "metadata": {},
   "outputs": [
    {
     "name": "stdout",
     "output_type": "stream",
     "text": [
      "Examine if glove_doc_vec is equal to self-trained doc_vec...\n"
     ]
    },
    {
     "data": {
      "text/plain": [
       "array([False, False, False, False, False, False, False, False, False,\n",
       "       False, False, False, False, False, False, False, False, False,\n",
       "       False, False, False, False, False, False, False, False, False,\n",
       "       False, False, False, False, False, False, False, False, False,\n",
       "       False, False, False, False, False, False, False, False, False,\n",
       "       False, False, False, False, False, False, False, False, False,\n",
       "       False, False, False, False, False, False, False, False, False,\n",
       "       False, False, False, False, False, False, False, False, False,\n",
       "       False, False, False, False, False, False, False, False, False,\n",
       "       False, False, False, False, False, False, False, False, False,\n",
       "       False, False, False, False, False, False, False, False, False,\n",
       "       False, False, False, False, False, False, False, False, False,\n",
       "       False, False, False, False, False, False, False, False, False,\n",
       "       False, False, False, False, False, False, False, False, False,\n",
       "       False, False, False, False, False, False, False, False, False,\n",
       "       False, False, False, False, False, False, False, False, False,\n",
       "       False, False, False, False, False, False, False, False, False,\n",
       "       False, False, False, False, False, False, False, False, False,\n",
       "       False, False, False, False, False, False, False, False, False,\n",
       "       False, False, False, False, False, False, False, False, False,\n",
       "       False, False, False, False, False, False, False, False, False,\n",
       "       False, False, False, False, False, False, False, False, False,\n",
       "       False, False, False, False, False, False, False, False, False,\n",
       "       False, False, False, False, False, False, False, False, False,\n",
       "       False, False, False, False, False, False, False, False, False,\n",
       "       False, False, False, False, False, False, False, False, False,\n",
       "       False, False, False, False, False, False, False, False, False,\n",
       "       False, False, False, False, False, False, False, False, False,\n",
       "       False, False, False, False, False, False, False, False, False,\n",
       "       False, False, False, False, False, False, False, False, False,\n",
       "       False, False, False, False, False, False, False, False, False,\n",
       "       False, False, False, False, False, False, False, False, False,\n",
       "       False, False, False, False, False, False, False, False, False,\n",
       "       False, False, False])"
      ]
     },
     "execution_count": 32,
     "metadata": {},
     "output_type": "execute_result"
    }
   ],
   "source": [
    "# Examine if glove_doc_vec is equal to self-trained doc_vec.\n",
    "print('Examine if glove_doc_vec is equal to self-trained doc_vec...')\n",
    "glove_doc_vec[4] == doc_vec[4]"
   ]
  },
  {
   "cell_type": "markdown",
   "metadata": {},
   "source": [
    "## Apply Doc2vec Training Directly"
   ]
  },
  {
   "cell_type": "markdown",
   "metadata": {},
   "source": [
    "### PV-DM Model"
   ]
  },
  {
   "cell_type": "markdown",
   "metadata": {},
   "source": [
    "Last but not least, we still have one more option - to directly train doc2vec, and no need to average all word embeddings. Here I chose **PV-DM model** to train my doc2vec.\n",
    "\n",
    "The script is mostly referred from [Gensim tutorial](https://github.com/RaRe-Technologies/gensim/blob/3c3506d51a2caf6b890de3b1b32a8b85f7566ca5/docs/notebooks/doc2vec-IMDB.ipynb). And again, to save all the labor, I create a class **DocModel** for it. The class just needs to take in the **TaggedDocument** and then we call `self.custom_train()` method, the doc model will train itself."
   ]
  },
  {
   "cell_type": "markdown",
   "metadata": {},
   "source": [
    "<mark>**APPENDIX: Training with Fixed Learning Rate.**</mark>\n",
    "\n",
    "It's said to achieve better result, but the statement is from a rather old-version gensim tutorial. I found no better training result out of using fixed learning rate. Instead, using the default one, which is also recommended by the new gensim document achieving better performance.\n",
    "\n",
    "Excerpted from [Doc2vec tutorial](https://rare-technologies.com/doc2vec-tutorial/)\n",
    "\n",
    "I have obtained better results by iterating over the data several times and either\n",
    "\n",
    "1. randomizing the order of input sentences, or\n",
    "2. manually controlling the learning rate over the course of several iterations."
   ]
  },
  {
   "cell_type": "code",
   "execution_count": 33,
   "metadata": {},
   "outputs": [],
   "source": [
    "class DocModel(object):\n",
    "\n",
    "\tdef __init__(self, docs, **kwargs):\n",
    "\t\t\"\"\"\n",
    "\t\t:param docs: list of TaggedDocument\n",
    "\t\t:param kwargs: dictionary of (key,value) for Doc2Vec arguments\n",
    "\t\t\"\"\"\n",
    "\t\tself.model = Doc2Vec(**kwargs)\n",
    "\t\tself.docs = docs\n",
    "\t\tself.model.build_vocab([x for x in self.docs])\n",
    "\n",
    "\tdef custom_train(self, fixed_lr=False, fixed_lr_epochs=None):\n",
    "\t\t\"\"\"\n",
    "\t\tTrain Doc2Vec with two options, without fixed learning rate(recommended) or with fixed learning rate.\n",
    "\t\tFixed learning rate also includes implementation of shuffling training dataset.\n",
    "\t\t:param fixed_lr: boolean\n",
    "\t\t:param fixed_lr_epochs: num of epochs for fixed lr training\n",
    "\t\t\"\"\"\n",
    "\t\tif not fixed_lr:\n",
    "\t\t\tself.model.train([x for x in self.docs],\n",
    "\t\t\t\t\t\t\t total_examples=len(self.docs),\n",
    "\t\t\t\t\t\t\t epochs=self.model.epochs)\n",
    "\t\telse:\n",
    "\t\t\tfor _ in range(fixed_lr_epochs):\n",
    "\t\t\t\tself.model.train(utils.shuffle([x for x in self.docs]),\n",
    "\t\t\t\t\t\t\t\t total_examples=len(self.docs),\n",
    "\t\t\t\t\t\t\t\t epochs=1)\n",
    "\t\t\t\tself.model.alpha -= 0.002\n",
    "\t\t\t\tself.model.min_alpha = self.model.alpha  # fixed learning rate\n",
    "                "
   ]
  },
  {
   "cell_type": "code",
   "execution_count": 34,
   "metadata": {},
   "outputs": [
    {
     "name": "stdout",
     "output_type": "stream",
     "text": [
      "File with the doc2vec model already exists\n"
     ]
    }
   ],
   "source": [
    "if not os.path.exists('./' + DOC2VEC_EMBEDDING_FILE):\n",
    "\n",
    "    # Instantiate a pv-dm model\n",
    "    # Configure keyed arguments for Doc2Vec model.\n",
    "    dm_args = {\n",
    "        'dm': 1,\n",
    "        'dm_mean': 1,\n",
    "        'vector_size': 300, # VECTOR_SIZE IMPORTANT!!!\n",
    "        'window': 5,\n",
    "        'negative': 5,\n",
    "        'hs': 0,\n",
    "        'min_count': 2,\n",
    "        'sample': 0,\n",
    "        'workers': 7-1,\n",
    "        'alpha': 0.025,\n",
    "        'min_alpha': 0.025,\n",
    "        'epochs': 175,\n",
    "        'comment': 'alpha=0.025'\n",
    "    }\n",
    "    dm = DocModel(docs=preprocessed_docs.tagdocs, **dm_args)\n",
    "    dm.custom_train()\n",
    "\n",
    "    # Save doc2vec as feature dataframe.\n",
    "    dm_doc_vec_ls = []\n",
    "    for i in range(len(dm.model.docvecs)):\n",
    "        dm_doc_vec_ls.append(dm.model.docvecs[i])\n",
    "\n",
    "    dm_doc_vec = pd.DataFrame(dm_doc_vec_ls)\n",
    "else:\n",
    "    print(\"File with the doc2vec model already exists\")"
   ]
  },
  {
   "cell_type": "code",
   "execution_count": 35,
   "metadata": {},
   "outputs": [
    {
     "name": "stdout",
     "output_type": "stream",
     "text": [
      "Reading doc2vec model from file\n",
      "Done\n",
      "Shape of doc2vec: \n"
     ]
    },
    {
     "data": {
      "text/plain": [
       "(49582, 300)"
      ]
     },
     "metadata": {},
     "output_type": "display_data"
    }
   ],
   "source": [
    "# Saving or loading doc2vec model to/from a file\n",
    "if os.path.exists('./' + DOC2VEC_EMBEDDING_FILE):\n",
    "    # Read the saved model from a csv file\n",
    "    print('Reading doc2vec model from file')\n",
    "    try:\n",
    "        dm_doc_vec = pd.read_csv(os.path.join(DOC2VEC_EMBEDDING_FILE), header=None)\n",
    "        print('Done')\n",
    "    except Exception as e:    \n",
    "        print('Could not load file', e)\n",
    "else:  \n",
    "    # Save model object as a csv file\n",
    "    print('Saving documents as a csv')\n",
    "    try:\n",
    "        dm_doc_vec.to_csv(os.path.join(DOC2VEC_EMBEDDING_FILE), index=False, header=False)\n",
    "        print('Done')\n",
    "    except Exception as e:\n",
    "        print('Could not save file', e)\n",
    "\n",
    "print('Shape of doc2vec: ')\n",
    "display(dm_doc_vec.shape)"
   ]
  },
  {
   "cell_type": "markdown",
   "metadata": {},
   "source": [
    "# Prepare the Classification Model"
   ]
  },
  {
   "cell_type": "markdown",
   "metadata": {},
   "source": [
    "Now, we've prepared all the necessary ingredients - different types of features. Let's experiment to observe their effect on classification performance. Here, I'll use **basic logistic model** as the base model and feed in different kind of features created earlier. Hence, to compare their effectiveness.\n",
    "\n",
    "In addition to compare effects of each word embedding averaging method, I also try to **concatenate word2vec and doc2vec** together, and see if it can boost up the performance even more.\n",
    "\n",
    "I used TF-IDF weighted word embedding and PV-DM doc2vec together. The result shows that it increases the accuracy on training dataset (perhaps a sign of over-fitting?), but not so significant improvement on testing dataset compared using TF-IDF word2vec alone."
   ]
  },
  {
   "cell_type": "code",
   "execution_count": 36,
   "metadata": {},
   "outputs": [],
   "source": [
    "# Get target_labels\n",
    "target_labels = preprocessed_docs.labels\n",
    "\n",
    "doc_vec = pd.read_csv(os.path.join('doc_vec_new_300.csv'), header=None)\n",
    "tfidf_doc_vec = pd.read_csv(os.path.join('tfidf_doc_vec_new_300.csv'), header=None)\n",
    "glove_doc_vec = pd.read_csv(os.path.join('glove_doc_vec_new_300.csv'), header=None)\n",
    "dm_doc_vec = pd.read_csv(os.path.join('dm_doc_vec_new_300.csv'), header=None)"
   ]
  },
  {
   "cell_type": "markdown",
   "metadata": {},
   "source": [
    "## Set up Model"
   ]
  },
  {
   "cell_type": "code",
   "execution_count": 37,
   "metadata": {},
   "outputs": [],
   "source": [
    "# Classification via Logistic Model\n",
    "# logistic = LogisticRegression(random_state=random_state, multi_class='multinomial', solver='saga')\n",
    "logistic = LogisticRegression(penalty='l2', max_iter=500, random_state=random_state)"
   ]
  },
  {
   "cell_type": "markdown",
   "metadata": {},
   "source": [
    "## Define Data Split Function"
   ]
  },
  {
   "cell_type": "code",
   "execution_count": 38,
   "metadata": {},
   "outputs": [],
   "source": [
    "def init_data_splits(df, concat_dfs=None):\n",
    "    if concat_dfs is not None:\n",
    "        for concat_df in concat_dfs:\n",
    "            df = pd.concat([df, concat_df], axis=1, ignore_index=True)\n",
    "    \n",
    "    # Prepare test dataset\n",
    "    train_X, test_X, train_y, test_y = train_test_split(df,\n",
    "                                                    target_labels,\n",
    "                                                    test_size=TEST_SIZE,\n",
    "                                                    random_state=random_state,\n",
    "                                                    stratify=target_labels)\n",
    "    # Prepare valid dataset\n",
    "    if VALID_SIZE != 0:\n",
    "        train_X, valid_X, train_y, valid_y = train_test_split(train_X,\n",
    "                                                      train_y,\n",
    "                                                      test_size=VALID_SIZE,\n",
    "                                                      random_state=random_state,\n",
    "                                                      stratify=train_y)\n",
    "    \n",
    "    print('Shape of train_X: {}'.format(train_X.shape))\n",
    "    print('Shape of valid_X: {}'.format(valid_X.shape if 'valid_X' in vars() else (0,0)))\n",
    "    print('Shape of text_X: {}'.format(test_X.shape))\n",
    "    \n",
    "    if VALID_SIZE != 0:\n",
    "        return train_X, valid_X, test_X, train_y, valid_y, test_y\n",
    "    else:\n",
    "        return train_X, None, test_X, train_y, None, test_y"
   ]
  },
  {
   "cell_type": "markdown",
   "metadata": {},
   "source": [
    "# Test Model"
   ]
  },
  {
   "cell_type": "markdown",
   "metadata": {},
   "source": [
    "## Performance on Simple Averaging Word Vector"
   ]
  },
  {
   "cell_type": "markdown",
   "metadata": {},
   "source": [
    "### Hyper-Parameters"
   ]
  },
  {
   "cell_type": "code",
   "execution_count": 39,
   "metadata": {},
   "outputs": [],
   "source": [
    "model = logistic  # or choose sgd.\n",
    "df = doc_vec"
   ]
  },
  {
   "cell_type": "markdown",
   "metadata": {},
   "source": [
    "### Train"
   ]
  },
  {
   "cell_type": "code",
   "execution_count": 40,
   "metadata": {},
   "outputs": [
    {
     "name": "stdout",
     "output_type": "stream",
     "text": [
      "Shape of train_X: (39665, 300)\n",
      "Shape of valid_X: (0, 0)\n",
      "Shape of text_X: (9917, 300)\n",
      "Training time3.4918277529941406 seconds\n"
     ]
    }
   ],
   "source": [
    "# __init_model_data_splits__\n",
    "train_X, valid_X, test_X, train_y, valid_y, test_y = init_data_splits(df)\n",
    "\n",
    "start = timeit.default_timer()\n",
    "clf = model.fit(train_X, train_y)\n",
    "stop = timeit.default_timer()\n",
    "print('Training time{} seconds'.format(str(stop - start)))"
   ]
  },
  {
   "cell_type": "markdown",
   "metadata": {},
   "source": [
    "### Test on Training Dataset"
   ]
  },
  {
   "cell_type": "code",
   "execution_count": 41,
   "metadata": {},
   "outputs": [
    {
     "name": "stdout",
     "output_type": "stream",
     "text": [
      "Performance of Mean Word Vector on training dataset...\n",
      "Score on dataset...\n",
      "\n",
      "Confusion Matrix:\n",
      " [[17511  2247]\n",
      " [ 2115 17792]]\n",
      "\n",
      "Classification Report:\n",
      "               precision    recall  f1-score   support\n",
      "\n",
      "    negative       0.89      0.89      0.89     19758\n",
      "    positive       0.89      0.89      0.89     19907\n",
      "\n",
      "    accuracy                           0.89     39665\n",
      "   macro avg       0.89      0.89      0.89     39665\n",
      "weighted avg       0.89      0.89      0.89     39665\n",
      "\n",
      "\n",
      "accuracy: 0.890\n",
      "f1 score: 0.890\n"
     ]
    }
   ],
   "source": [
    "def evaluate_model(model, feature, label, label_names):\n",
    "\tpred = model.predict(feature)\n",
    "\ttrue = np.array(label)\n",
    "\n",
    "\tprint('Score on dataset...\\n')\n",
    "\tprint('Confusion Matrix:\\n', confusion_matrix(true, pred))\n",
    "\tprint('\\nClassification Report:\\n', classification_report(true, pred, target_names=label_names))\n",
    "\tprint('\\naccuracy: {:.3f}'.format(accuracy_score(true, pred)))\n",
    "\tprint('f1 score: {:.3f}'.format(f1_score(true, pred, average='weighted')))\n",
    "\n",
    "\treturn pred, true\n",
    "\n",
    "# Score on valid dataset.\n",
    "print('Performance of Mean Word Vector on training dataset...')\n",
    "_, _ = evaluate_model(clf, train_X, train_y, label_names=None)"
   ]
  },
  {
   "cell_type": "markdown",
   "metadata": {},
   "source": [
    "### Test on Testing Dataset"
   ]
  },
  {
   "cell_type": "code",
   "execution_count": 42,
   "metadata": {
    "scrolled": true
   },
   "outputs": [
    {
     "name": "stdout",
     "output_type": "stream",
     "text": [
      "Performance of Mean Word Vector on testing dataset...\n",
      "Score on dataset...\n",
      "\n",
      "Confusion Matrix:\n",
      " [[4320  620]\n",
      " [ 529 4448]]\n",
      "\n",
      "Classification Report:\n",
      "               precision    recall  f1-score   support\n",
      "\n",
      "    negative       0.89      0.87      0.88      4940\n",
      "    positive       0.88      0.89      0.89      4977\n",
      "\n",
      "    accuracy                           0.88      9917\n",
      "   macro avg       0.88      0.88      0.88      9917\n",
      "weighted avg       0.88      0.88      0.88      9917\n",
      "\n",
      "\n",
      "accuracy: 0.884\n",
      "f1 score: 0.884\n"
     ]
    }
   ],
   "source": [
    "# Score on test dataset.\n",
    "print('Performance of Mean Word Vector on testing dataset...')\n",
    "_, _ = evaluate_model(clf, test_X, test_y, label_names=None)"
   ]
  },
  {
   "cell_type": "markdown",
   "metadata": {},
   "source": [
    "## Performance on Tf-Idf Weighted Averaging Word Vector"
   ]
  },
  {
   "cell_type": "markdown",
   "metadata": {},
   "source": [
    "### Hyper-Parameters"
   ]
  },
  {
   "cell_type": "code",
   "execution_count": 43,
   "metadata": {},
   "outputs": [],
   "source": [
    "model = logistic  # or choose sgd.\n",
    "df = tfidf_doc_vec"
   ]
  },
  {
   "cell_type": "markdown",
   "metadata": {},
   "source": [
    "### Train"
   ]
  },
  {
   "cell_type": "code",
   "execution_count": 44,
   "metadata": {},
   "outputs": [
    {
     "name": "stdout",
     "output_type": "stream",
     "text": [
      "Shape of train_X: (39665, 300)\n",
      "Shape of valid_X: (0, 0)\n",
      "Shape of text_X: (9917, 300)\n",
      "Training time2.4948012230015593 seconds\n"
     ]
    }
   ],
   "source": [
    "# __init_model_data_splits__\n",
    "train_X, valid_X, test_X, train_y, valid_y, test_y = init_data_splits(df)\n",
    "\n",
    "# Train model\n",
    "start = timeit.default_timer()\n",
    "clf = model.fit(train_X, train_y)\n",
    "stop = timeit.default_timer()\n",
    "print('Training time{} seconds'.format(str(stop - start)))"
   ]
  },
  {
   "cell_type": "markdown",
   "metadata": {},
   "source": [
    "### Test on Training Dataset"
   ]
  },
  {
   "cell_type": "code",
   "execution_count": 45,
   "metadata": {},
   "outputs": [
    {
     "name": "stdout",
     "output_type": "stream",
     "text": [
      "Performance of Tf-Idf Mean Word Vector on training dataset...\n",
      "Score on dataset...\n",
      "\n",
      "Confusion Matrix:\n",
      " [[17466  2292]\n",
      " [ 2230 17677]]\n",
      "\n",
      "Classification Report:\n",
      "               precision    recall  f1-score   support\n",
      "\n",
      "    negative       0.89      0.88      0.89     19758\n",
      "    positive       0.89      0.89      0.89     19907\n",
      "\n",
      "    accuracy                           0.89     39665\n",
      "   macro avg       0.89      0.89      0.89     39665\n",
      "weighted avg       0.89      0.89      0.89     39665\n",
      "\n",
      "\n",
      "accuracy: 0.886\n",
      "f1 score: 0.886\n"
     ]
    }
   ],
   "source": [
    "# Score on valid dataset.\n",
    "print('Performance of Tf-Idf Mean Word Vector on training dataset...')\n",
    "_, _ = evaluate_model(clf, train_X, train_y, label_names=None)"
   ]
  },
  {
   "cell_type": "markdown",
   "metadata": {},
   "source": [
    "### Test on Testing Dataset"
   ]
  },
  {
   "cell_type": "code",
   "execution_count": 46,
   "metadata": {},
   "outputs": [
    {
     "name": "stdout",
     "output_type": "stream",
     "text": [
      "Performance of Tf-Idf Mean Word Vector on testing dataset...\n",
      "Score on dataset...\n",
      "\n",
      "Confusion Matrix:\n",
      " [[4303  637]\n",
      " [ 545 4432]]\n",
      "\n",
      "Classification Report:\n",
      "               precision    recall  f1-score   support\n",
      "\n",
      "    negative       0.89      0.87      0.88      4940\n",
      "    positive       0.87      0.89      0.88      4977\n",
      "\n",
      "    accuracy                           0.88      9917\n",
      "   macro avg       0.88      0.88      0.88      9917\n",
      "weighted avg       0.88      0.88      0.88      9917\n",
      "\n",
      "\n",
      "accuracy: 0.881\n",
      "f1 score: 0.881\n"
     ]
    }
   ],
   "source": [
    "# Score on test dataset.\n",
    "print('Performance of Tf-Idf Mean Word Vector on testing dataset...')\n",
    "_, _ = evaluate_model(clf, test_X, test_y, label_names=None)"
   ]
  },
  {
   "cell_type": "markdown",
   "metadata": {},
   "source": [
    "## Performance on Simple Averaging of GloVe Word Vector"
   ]
  },
  {
   "cell_type": "markdown",
   "metadata": {},
   "source": [
    "### Hyper-Parameters"
   ]
  },
  {
   "cell_type": "code",
   "execution_count": 47,
   "metadata": {},
   "outputs": [],
   "source": [
    "model = logistic  # or choose sgd.\n",
    "df = glove_doc_vec"
   ]
  },
  {
   "cell_type": "markdown",
   "metadata": {},
   "source": [
    "### Train"
   ]
  },
  {
   "cell_type": "code",
   "execution_count": 48,
   "metadata": {},
   "outputs": [
    {
     "name": "stdout",
     "output_type": "stream",
     "text": [
      "Shape of train_X: (39665, 300)\n",
      "Shape of valid_X: (0, 0)\n",
      "Shape of text_X: (9917, 300)\n",
      "Training time5.586939211003482 seconds\n"
     ]
    }
   ],
   "source": [
    "# __init_model_data_splits__\n",
    "train_X, valid_X, test_X, train_y, valid_y, test_y = init_data_splits(df)\n",
    "\n",
    "# Train model\n",
    "start = timeit.default_timer()\n",
    "clf = model.fit(train_X, train_y)\n",
    "stop = timeit.default_timer()\n",
    "print('Training time{} seconds'.format(str(stop - start)))"
   ]
  },
  {
   "cell_type": "markdown",
   "metadata": {},
   "source": [
    "### Test on Training Dataset"
   ]
  },
  {
   "cell_type": "code",
   "execution_count": 49,
   "metadata": {},
   "outputs": [
    {
     "name": "stdout",
     "output_type": "stream",
     "text": [
      "Performance of GloVe Mean Word Vector on training dataset...\n",
      "Score on dataset...\n",
      "\n",
      "Confusion Matrix:\n",
      " [[16283  3475]\n",
      " [ 3339 16568]]\n",
      "\n",
      "Classification Report:\n",
      "               precision    recall  f1-score   support\n",
      "\n",
      "    negative       0.83      0.82      0.83     19758\n",
      "    positive       0.83      0.83      0.83     19907\n",
      "\n",
      "    accuracy                           0.83     39665\n",
      "   macro avg       0.83      0.83      0.83     39665\n",
      "weighted avg       0.83      0.83      0.83     39665\n",
      "\n",
      "\n",
      "accuracy: 0.828\n",
      "f1 score: 0.828\n"
     ]
    }
   ],
   "source": [
    "# Score on valid dataset.\n",
    "print('Performance of GloVe Mean Word Vector on training dataset...')\n",
    "_, _ = evaluate_model(clf, train_X, train_y, label_names=None)"
   ]
  },
  {
   "cell_type": "markdown",
   "metadata": {},
   "source": [
    "### Test on Testing Dataset"
   ]
  },
  {
   "cell_type": "code",
   "execution_count": 50,
   "metadata": {},
   "outputs": [
    {
     "name": "stdout",
     "output_type": "stream",
     "text": [
      "Performance of GloVe Mean Word Vector on testing dataset...\n",
      "Score on dataset...\n",
      "\n",
      "Confusion Matrix:\n",
      " [[4007  933]\n",
      " [ 829 4148]]\n",
      "\n",
      "Classification Report:\n",
      "               precision    recall  f1-score   support\n",
      "\n",
      "    negative       0.83      0.81      0.82      4940\n",
      "    positive       0.82      0.83      0.82      4977\n",
      "\n",
      "    accuracy                           0.82      9917\n",
      "   macro avg       0.82      0.82      0.82      9917\n",
      "weighted avg       0.82      0.82      0.82      9917\n",
      "\n",
      "\n",
      "accuracy: 0.822\n",
      "f1 score: 0.822\n"
     ]
    }
   ],
   "source": [
    "# Score on test dataset.\n",
    "print('Performance of GloVe Mean Word Vector on testing dataset...')\n",
    "_, _ = evaluate_model(clf, test_X, test_y, label_names=None)"
   ]
  },
  {
   "cell_type": "markdown",
   "metadata": {},
   "source": [
    "## Performance on PV-DM Doc2vec"
   ]
  },
  {
   "cell_type": "markdown",
   "metadata": {},
   "source": [
    "### Hyper-Parameters"
   ]
  },
  {
   "cell_type": "code",
   "execution_count": 51,
   "metadata": {},
   "outputs": [],
   "source": [
    "model = logistic  # or choose sgd.\n",
    "df = dm_doc_vec"
   ]
  },
  {
   "cell_type": "markdown",
   "metadata": {},
   "source": [
    "### Train"
   ]
  },
  {
   "cell_type": "code",
   "execution_count": 52,
   "metadata": {},
   "outputs": [
    {
     "name": "stdout",
     "output_type": "stream",
     "text": [
      "Shape of train_X: (39665, 300)\n",
      "Shape of valid_X: (0, 0)\n",
      "Shape of text_X: (9917, 300)\n",
      "Training time0.7693823680019705 seconds\n"
     ]
    }
   ],
   "source": [
    "# __init_model_data_splits__\n",
    "train_X, valid_X, test_X, train_y, valid_y, test_y = init_data_splits(df)\n",
    "\n",
    "# Train model\n",
    "start = timeit.default_timer()\n",
    "clf = model.fit(train_X, train_y)\n",
    "stop = timeit.default_timer()\n",
    "print('Training time{} seconds'.format(str(stop - start)))"
   ]
  },
  {
   "cell_type": "markdown",
   "metadata": {},
   "source": [
    "### Test on Training Dataset"
   ]
  },
  {
   "cell_type": "code",
   "execution_count": 53,
   "metadata": {},
   "outputs": [
    {
     "name": "stdout",
     "output_type": "stream",
     "text": [
      "Performance of Doc2vec on training dataset...\n",
      "Score on dataset...\n",
      "\n",
      "Confusion Matrix:\n",
      " [[17200  2558]\n",
      " [ 2458 17449]]\n",
      "\n",
      "Classification Report:\n",
      "               precision    recall  f1-score   support\n",
      "\n",
      "    negative       0.87      0.87      0.87     19758\n",
      "    positive       0.87      0.88      0.87     19907\n",
      "\n",
      "    accuracy                           0.87     39665\n",
      "   macro avg       0.87      0.87      0.87     39665\n",
      "weighted avg       0.87      0.87      0.87     39665\n",
      "\n",
      "\n",
      "accuracy: 0.874\n",
      "f1 score: 0.874\n"
     ]
    }
   ],
   "source": [
    "# Score on valid dataset.\n",
    "print('Performance of Doc2vec on training dataset...')\n",
    "_, _ = evaluate_model(clf, train_X, train_y, label_names=None)"
   ]
  },
  {
   "cell_type": "markdown",
   "metadata": {},
   "source": [
    "### Test on Testing Dataset"
   ]
  },
  {
   "cell_type": "code",
   "execution_count": 54,
   "metadata": {},
   "outputs": [
    {
     "name": "stdout",
     "output_type": "stream",
     "text": [
      "Performance of Doc2vec on testing dataset...\n",
      "Score on dataset...\n",
      "\n",
      "Confusion Matrix:\n",
      " [[4276  664]\n",
      " [ 638 4339]]\n",
      "\n",
      "Classification Report:\n",
      "               precision    recall  f1-score   support\n",
      "\n",
      "    negative       0.87      0.87      0.87      4940\n",
      "    positive       0.87      0.87      0.87      4977\n",
      "\n",
      "    accuracy                           0.87      9917\n",
      "   macro avg       0.87      0.87      0.87      9917\n",
      "weighted avg       0.87      0.87      0.87      9917\n",
      "\n",
      "\n",
      "accuracy: 0.869\n",
      "f1 score: 0.869\n"
     ]
    }
   ],
   "source": [
    "# Score on test dataset.\n",
    "print('Performance of Doc2vec on testing dataset...')\n",
    "_, _ = evaluate_model(clf, test_X, test_y, label_names=None)"
   ]
  },
  {
   "cell_type": "markdown",
   "metadata": {},
   "source": [
    "## Performance on Tf-Idf and Doc2vec Concatenated Feature"
   ]
  },
  {
   "cell_type": "markdown",
   "metadata": {},
   "source": [
    "### Hyper-Parameters"
   ]
  },
  {
   "cell_type": "code",
   "execution_count": 55,
   "metadata": {},
   "outputs": [],
   "source": [
    "model = logistic  # or choose sgd.\n",
    "df = tfidf_doc_vec\n",
    "concat_dfs = [dm_doc_vec]"
   ]
  },
  {
   "cell_type": "markdown",
   "metadata": {},
   "source": [
    "### Train"
   ]
  },
  {
   "cell_type": "code",
   "execution_count": 56,
   "metadata": {},
   "outputs": [
    {
     "name": "stdout",
     "output_type": "stream",
     "text": [
      "Shape of train_X: (39665, 600)\n",
      "Shape of valid_X: (0, 0)\n",
      "Shape of text_X: (9917, 600)\n",
      "Training time9.371461502989405 seconds\n"
     ]
    }
   ],
   "source": [
    "train_X, valid_X, test_X, train_y, valid_y, test_y = init_data_splits(df, concat_dfs=concat_dfs)\n",
    "\n",
    "# Train model\n",
    "start = timeit.default_timer()\n",
    "clf = model.fit(train_X, train_y)\n",
    "stop = timeit.default_timer()\n",
    "print('Training time{} seconds'.format(str(stop - start)))"
   ]
  },
  {
   "cell_type": "markdown",
   "metadata": {},
   "source": [
    "### Test on Training Dataset"
   ]
  },
  {
   "cell_type": "code",
   "execution_count": 57,
   "metadata": {},
   "outputs": [
    {
     "name": "stdout",
     "output_type": "stream",
     "text": [
      "Performance of Tf-Idf+Doc2vec on training dataset...\n",
      "Score on dataset...\n",
      "\n",
      "Confusion Matrix:\n",
      " [[17703  2055]\n",
      " [ 1980 17927]]\n",
      "\n",
      "Classification Report:\n",
      "               precision    recall  f1-score   support\n",
      "\n",
      "    negative       0.90      0.90      0.90     19758\n",
      "    positive       0.90      0.90      0.90     19907\n",
      "\n",
      "    accuracy                           0.90     39665\n",
      "   macro avg       0.90      0.90      0.90     39665\n",
      "weighted avg       0.90      0.90      0.90     39665\n",
      "\n",
      "\n",
      "accuracy: 0.898\n",
      "f1 score: 0.898\n"
     ]
    }
   ],
   "source": [
    "# Score on valid dataset.\n",
    "print('Performance of Tf-Idf+Doc2vec on training dataset...')\n",
    "_, _ = evaluate_model(clf, train_X, train_y, label_names=None)"
   ]
  },
  {
   "cell_type": "markdown",
   "metadata": {},
   "source": [
    "### Test on Testing Dataset"
   ]
  },
  {
   "cell_type": "code",
   "execution_count": 58,
   "metadata": {},
   "outputs": [
    {
     "name": "stdout",
     "output_type": "stream",
     "text": [
      "Performance of Tf-Idf+Doc2vec on testing dataset...\n",
      "Score on dataset...\n",
      "\n",
      "Confusion Matrix:\n",
      " [[4369  571]\n",
      " [ 502 4475]]\n",
      "\n",
      "Classification Report:\n",
      "               precision    recall  f1-score   support\n",
      "\n",
      "    negative       0.90      0.88      0.89      4940\n",
      "    positive       0.89      0.90      0.89      4977\n",
      "\n",
      "    accuracy                           0.89      9917\n",
      "   macro avg       0.89      0.89      0.89      9917\n",
      "weighted avg       0.89      0.89      0.89      9917\n",
      "\n",
      "\n",
      "accuracy: 0.892\n",
      "f1 score: 0.892\n"
     ]
    }
   ],
   "source": [
    "# Score on test dataset.\n",
    "print('Performance of Tf-Idf+Doc2vec on testing dataset...')\n",
    "_, _ = evaluate_model(clf, test_X, test_y, label_names=None)"
   ]
  },
  {
   "cell_type": "markdown",
   "metadata": {},
   "source": [
    "## Performance on Tf-Idf  + Simple Averaging of GloVe Word Vector + Doc2vec Concatenated Feature???"
   ]
  },
  {
   "cell_type": "markdown",
   "metadata": {},
   "source": [
    "# (Optional) Grid-Search for Best Hyper-Paremeters on Logistic"
   ]
  },
  {
   "cell_type": "markdown",
   "metadata": {},
   "source": [
    "<mark>**NOTE:**</mark>\n",
    "\n",
    "The `log_loss()` from sklearn expects to have predicted probs for each class. Thus, instead of simply using `clf.predict(X)`, we need to use `clf.predict_proba(X)` when computing for y_pred. In other words, if we want to use `GridSearchCV`, it's probabily best to directly specify scoring as **'neg_log_loss'**, instead of creating our own scoring func."
   ]
  },
  {
   "cell_type": "code",
   "execution_count": 59,
   "metadata": {},
   "outputs": [
    {
     "ename": "KeyboardInterrupt",
     "evalue": "",
     "output_type": "error",
     "traceback": [
      "\u001b[0;31m---------------------------------------------------------------------------\u001b[0m",
      "\u001b[0;31mKeyboardInterrupt\u001b[0m                         Traceback (most recent call last)",
      "\u001b[0;32m/tmp/ipykernel_100816/3998520305.py\u001b[0m in \u001b[0;36m<module>\u001b[0;34m\u001b[0m\n\u001b[1;32m     16\u001b[0m \u001b[0mgrid_log\u001b[0m \u001b[0;34m=\u001b[0m \u001b[0mGridSearchCV\u001b[0m\u001b[0;34m(\u001b[0m\u001b[0mlogistic\u001b[0m\u001b[0;34m,\u001b[0m \u001b[0mparam_grid\u001b[0m\u001b[0;34m=\u001b[0m\u001b[0mparams_log\u001b[0m\u001b[0;34m,\u001b[0m \u001b[0mscoring\u001b[0m\u001b[0;34m=\u001b[0m\u001b[0;34m'neg_log_loss'\u001b[0m\u001b[0;34m,\u001b[0m \u001b[0mcv\u001b[0m\u001b[0;34m=\u001b[0m\u001b[0;36m5\u001b[0m\u001b[0;34m)\u001b[0m\u001b[0;34m\u001b[0m\u001b[0;34m\u001b[0m\u001b[0m\n\u001b[1;32m     17\u001b[0m \u001b[0;34m\u001b[0m\u001b[0m\n\u001b[0;32m---> 18\u001b[0;31m \u001b[0mgrid_log\u001b[0m\u001b[0;34m.\u001b[0m\u001b[0mfit\u001b[0m\u001b[0;34m(\u001b[0m\u001b[0mtrain_X\u001b[0m\u001b[0;34m,\u001b[0m \u001b[0mtrain_y\u001b[0m\u001b[0;34m)\u001b[0m\u001b[0;34m\u001b[0m\u001b[0;34m\u001b[0m\u001b[0m\n\u001b[0m\u001b[1;32m     19\u001b[0m \u001b[0;34m\u001b[0m\u001b[0m\n\u001b[1;32m     20\u001b[0m print(\n",
      "\u001b[0;32m~/PycharmProjects/pythonProject/venv/lib/python3.8/site-packages/sklearn/model_selection/_search.py\u001b[0m in \u001b[0;36mfit\u001b[0;34m(self, X, y, groups, **fit_params)\u001b[0m\n\u001b[1;32m    889\u001b[0m                 \u001b[0;32mreturn\u001b[0m \u001b[0mresults\u001b[0m\u001b[0;34m\u001b[0m\u001b[0;34m\u001b[0m\u001b[0m\n\u001b[1;32m    890\u001b[0m \u001b[0;34m\u001b[0m\u001b[0m\n\u001b[0;32m--> 891\u001b[0;31m             \u001b[0mself\u001b[0m\u001b[0;34m.\u001b[0m\u001b[0m_run_search\u001b[0m\u001b[0;34m(\u001b[0m\u001b[0mevaluate_candidates\u001b[0m\u001b[0;34m)\u001b[0m\u001b[0;34m\u001b[0m\u001b[0;34m\u001b[0m\u001b[0m\n\u001b[0m\u001b[1;32m    892\u001b[0m \u001b[0;34m\u001b[0m\u001b[0m\n\u001b[1;32m    893\u001b[0m             \u001b[0;31m# multimetric is determined here because in the case of a callable\u001b[0m\u001b[0;34m\u001b[0m\u001b[0;34m\u001b[0m\u001b[0;34m\u001b[0m\u001b[0m\n",
      "\u001b[0;32m~/PycharmProjects/pythonProject/venv/lib/python3.8/site-packages/sklearn/model_selection/_search.py\u001b[0m in \u001b[0;36m_run_search\u001b[0;34m(self, evaluate_candidates)\u001b[0m\n\u001b[1;32m   1390\u001b[0m     \u001b[0;32mdef\u001b[0m \u001b[0m_run_search\u001b[0m\u001b[0;34m(\u001b[0m\u001b[0mself\u001b[0m\u001b[0;34m,\u001b[0m \u001b[0mevaluate_candidates\u001b[0m\u001b[0;34m)\u001b[0m\u001b[0;34m:\u001b[0m\u001b[0;34m\u001b[0m\u001b[0;34m\u001b[0m\u001b[0m\n\u001b[1;32m   1391\u001b[0m         \u001b[0;34m\"\"\"Search all candidates in param_grid\"\"\"\u001b[0m\u001b[0;34m\u001b[0m\u001b[0;34m\u001b[0m\u001b[0m\n\u001b[0;32m-> 1392\u001b[0;31m         \u001b[0mevaluate_candidates\u001b[0m\u001b[0;34m(\u001b[0m\u001b[0mParameterGrid\u001b[0m\u001b[0;34m(\u001b[0m\u001b[0mself\u001b[0m\u001b[0;34m.\u001b[0m\u001b[0mparam_grid\u001b[0m\u001b[0;34m)\u001b[0m\u001b[0;34m)\u001b[0m\u001b[0;34m\u001b[0m\u001b[0;34m\u001b[0m\u001b[0m\n\u001b[0m\u001b[1;32m   1393\u001b[0m \u001b[0;34m\u001b[0m\u001b[0m\n\u001b[1;32m   1394\u001b[0m \u001b[0;34m\u001b[0m\u001b[0m\n",
      "\u001b[0;32m~/PycharmProjects/pythonProject/venv/lib/python3.8/site-packages/sklearn/model_selection/_search.py\u001b[0m in \u001b[0;36mevaluate_candidates\u001b[0;34m(candidate_params, cv, more_results)\u001b[0m\n\u001b[1;32m    836\u001b[0m                     )\n\u001b[1;32m    837\u001b[0m \u001b[0;34m\u001b[0m\u001b[0m\n\u001b[0;32m--> 838\u001b[0;31m                 out = parallel(\n\u001b[0m\u001b[1;32m    839\u001b[0m                     delayed(_fit_and_score)(\n\u001b[1;32m    840\u001b[0m                         \u001b[0mclone\u001b[0m\u001b[0;34m(\u001b[0m\u001b[0mbase_estimator\u001b[0m\u001b[0;34m)\u001b[0m\u001b[0;34m,\u001b[0m\u001b[0;34m\u001b[0m\u001b[0;34m\u001b[0m\u001b[0m\n",
      "\u001b[0;32m~/PycharmProjects/pythonProject/venv/lib/python3.8/site-packages/joblib/parallel.py\u001b[0m in \u001b[0;36m__call__\u001b[0;34m(self, iterable)\u001b[0m\n\u001b[1;32m   1042\u001b[0m                 \u001b[0mself\u001b[0m\u001b[0;34m.\u001b[0m\u001b[0m_iterating\u001b[0m \u001b[0;34m=\u001b[0m \u001b[0mself\u001b[0m\u001b[0;34m.\u001b[0m\u001b[0m_original_iterator\u001b[0m \u001b[0;32mis\u001b[0m \u001b[0;32mnot\u001b[0m \u001b[0;32mNone\u001b[0m\u001b[0;34m\u001b[0m\u001b[0;34m\u001b[0m\u001b[0m\n\u001b[1;32m   1043\u001b[0m \u001b[0;34m\u001b[0m\u001b[0m\n\u001b[0;32m-> 1044\u001b[0;31m             \u001b[0;32mwhile\u001b[0m \u001b[0mself\u001b[0m\u001b[0;34m.\u001b[0m\u001b[0mdispatch_one_batch\u001b[0m\u001b[0;34m(\u001b[0m\u001b[0miterator\u001b[0m\u001b[0;34m)\u001b[0m\u001b[0;34m:\u001b[0m\u001b[0;34m\u001b[0m\u001b[0;34m\u001b[0m\u001b[0m\n\u001b[0m\u001b[1;32m   1045\u001b[0m                 \u001b[0;32mpass\u001b[0m\u001b[0;34m\u001b[0m\u001b[0;34m\u001b[0m\u001b[0m\n\u001b[1;32m   1046\u001b[0m \u001b[0;34m\u001b[0m\u001b[0m\n",
      "\u001b[0;32m~/PycharmProjects/pythonProject/venv/lib/python3.8/site-packages/joblib/parallel.py\u001b[0m in \u001b[0;36mdispatch_one_batch\u001b[0;34m(self, iterator)\u001b[0m\n\u001b[1;32m    857\u001b[0m                 \u001b[0;32mreturn\u001b[0m \u001b[0;32mFalse\u001b[0m\u001b[0;34m\u001b[0m\u001b[0;34m\u001b[0m\u001b[0m\n\u001b[1;32m    858\u001b[0m             \u001b[0;32melse\u001b[0m\u001b[0;34m:\u001b[0m\u001b[0;34m\u001b[0m\u001b[0;34m\u001b[0m\u001b[0m\n\u001b[0;32m--> 859\u001b[0;31m                 \u001b[0mself\u001b[0m\u001b[0;34m.\u001b[0m\u001b[0m_dispatch\u001b[0m\u001b[0;34m(\u001b[0m\u001b[0mtasks\u001b[0m\u001b[0;34m)\u001b[0m\u001b[0;34m\u001b[0m\u001b[0;34m\u001b[0m\u001b[0m\n\u001b[0m\u001b[1;32m    860\u001b[0m                 \u001b[0;32mreturn\u001b[0m \u001b[0;32mTrue\u001b[0m\u001b[0;34m\u001b[0m\u001b[0;34m\u001b[0m\u001b[0m\n\u001b[1;32m    861\u001b[0m \u001b[0;34m\u001b[0m\u001b[0m\n",
      "\u001b[0;32m~/PycharmProjects/pythonProject/venv/lib/python3.8/site-packages/joblib/parallel.py\u001b[0m in \u001b[0;36m_dispatch\u001b[0;34m(self, batch)\u001b[0m\n\u001b[1;32m    775\u001b[0m         \u001b[0;32mwith\u001b[0m \u001b[0mself\u001b[0m\u001b[0;34m.\u001b[0m\u001b[0m_lock\u001b[0m\u001b[0;34m:\u001b[0m\u001b[0;34m\u001b[0m\u001b[0;34m\u001b[0m\u001b[0m\n\u001b[1;32m    776\u001b[0m             \u001b[0mjob_idx\u001b[0m \u001b[0;34m=\u001b[0m \u001b[0mlen\u001b[0m\u001b[0;34m(\u001b[0m\u001b[0mself\u001b[0m\u001b[0;34m.\u001b[0m\u001b[0m_jobs\u001b[0m\u001b[0;34m)\u001b[0m\u001b[0;34m\u001b[0m\u001b[0;34m\u001b[0m\u001b[0m\n\u001b[0;32m--> 777\u001b[0;31m             \u001b[0mjob\u001b[0m \u001b[0;34m=\u001b[0m \u001b[0mself\u001b[0m\u001b[0;34m.\u001b[0m\u001b[0m_backend\u001b[0m\u001b[0;34m.\u001b[0m\u001b[0mapply_async\u001b[0m\u001b[0;34m(\u001b[0m\u001b[0mbatch\u001b[0m\u001b[0;34m,\u001b[0m \u001b[0mcallback\u001b[0m\u001b[0;34m=\u001b[0m\u001b[0mcb\u001b[0m\u001b[0;34m)\u001b[0m\u001b[0;34m\u001b[0m\u001b[0;34m\u001b[0m\u001b[0m\n\u001b[0m\u001b[1;32m    778\u001b[0m             \u001b[0;31m# A job can complete so quickly than its callback is\u001b[0m\u001b[0;34m\u001b[0m\u001b[0;34m\u001b[0m\u001b[0;34m\u001b[0m\u001b[0m\n\u001b[1;32m    779\u001b[0m             \u001b[0;31m# called before we get here, causing self._jobs to\u001b[0m\u001b[0;34m\u001b[0m\u001b[0;34m\u001b[0m\u001b[0;34m\u001b[0m\u001b[0m\n",
      "\u001b[0;32m~/PycharmProjects/pythonProject/venv/lib/python3.8/site-packages/joblib/_parallel_backends.py\u001b[0m in \u001b[0;36mapply_async\u001b[0;34m(self, func, callback)\u001b[0m\n\u001b[1;32m    206\u001b[0m     \u001b[0;32mdef\u001b[0m \u001b[0mapply_async\u001b[0m\u001b[0;34m(\u001b[0m\u001b[0mself\u001b[0m\u001b[0;34m,\u001b[0m \u001b[0mfunc\u001b[0m\u001b[0;34m,\u001b[0m \u001b[0mcallback\u001b[0m\u001b[0;34m=\u001b[0m\u001b[0;32mNone\u001b[0m\u001b[0;34m)\u001b[0m\u001b[0;34m:\u001b[0m\u001b[0;34m\u001b[0m\u001b[0;34m\u001b[0m\u001b[0m\n\u001b[1;32m    207\u001b[0m         \u001b[0;34m\"\"\"Schedule a func to be run\"\"\"\u001b[0m\u001b[0;34m\u001b[0m\u001b[0;34m\u001b[0m\u001b[0m\n\u001b[0;32m--> 208\u001b[0;31m         \u001b[0mresult\u001b[0m \u001b[0;34m=\u001b[0m \u001b[0mImmediateResult\u001b[0m\u001b[0;34m(\u001b[0m\u001b[0mfunc\u001b[0m\u001b[0;34m)\u001b[0m\u001b[0;34m\u001b[0m\u001b[0;34m\u001b[0m\u001b[0m\n\u001b[0m\u001b[1;32m    209\u001b[0m         \u001b[0;32mif\u001b[0m \u001b[0mcallback\u001b[0m\u001b[0;34m:\u001b[0m\u001b[0;34m\u001b[0m\u001b[0;34m\u001b[0m\u001b[0m\n\u001b[1;32m    210\u001b[0m             \u001b[0mcallback\u001b[0m\u001b[0;34m(\u001b[0m\u001b[0mresult\u001b[0m\u001b[0;34m)\u001b[0m\u001b[0;34m\u001b[0m\u001b[0;34m\u001b[0m\u001b[0m\n",
      "\u001b[0;32m~/PycharmProjects/pythonProject/venv/lib/python3.8/site-packages/joblib/_parallel_backends.py\u001b[0m in \u001b[0;36m__init__\u001b[0;34m(self, batch)\u001b[0m\n\u001b[1;32m    570\u001b[0m         \u001b[0;31m# Don't delay the application, to avoid keeping the input\u001b[0m\u001b[0;34m\u001b[0m\u001b[0;34m\u001b[0m\u001b[0;34m\u001b[0m\u001b[0m\n\u001b[1;32m    571\u001b[0m         \u001b[0;31m# arguments in memory\u001b[0m\u001b[0;34m\u001b[0m\u001b[0;34m\u001b[0m\u001b[0;34m\u001b[0m\u001b[0m\n\u001b[0;32m--> 572\u001b[0;31m         \u001b[0mself\u001b[0m\u001b[0;34m.\u001b[0m\u001b[0mresults\u001b[0m \u001b[0;34m=\u001b[0m \u001b[0mbatch\u001b[0m\u001b[0;34m(\u001b[0m\u001b[0;34m)\u001b[0m\u001b[0;34m\u001b[0m\u001b[0;34m\u001b[0m\u001b[0m\n\u001b[0m\u001b[1;32m    573\u001b[0m \u001b[0;34m\u001b[0m\u001b[0m\n\u001b[1;32m    574\u001b[0m     \u001b[0;32mdef\u001b[0m \u001b[0mget\u001b[0m\u001b[0;34m(\u001b[0m\u001b[0mself\u001b[0m\u001b[0;34m)\u001b[0m\u001b[0;34m:\u001b[0m\u001b[0;34m\u001b[0m\u001b[0;34m\u001b[0m\u001b[0m\n",
      "\u001b[0;32m~/PycharmProjects/pythonProject/venv/lib/python3.8/site-packages/joblib/parallel.py\u001b[0m in \u001b[0;36m__call__\u001b[0;34m(self)\u001b[0m\n\u001b[1;32m    260\u001b[0m         \u001b[0;31m# change the default number of processes to -1\u001b[0m\u001b[0;34m\u001b[0m\u001b[0;34m\u001b[0m\u001b[0;34m\u001b[0m\u001b[0m\n\u001b[1;32m    261\u001b[0m         \u001b[0;32mwith\u001b[0m \u001b[0mparallel_backend\u001b[0m\u001b[0;34m(\u001b[0m\u001b[0mself\u001b[0m\u001b[0;34m.\u001b[0m\u001b[0m_backend\u001b[0m\u001b[0;34m,\u001b[0m \u001b[0mn_jobs\u001b[0m\u001b[0;34m=\u001b[0m\u001b[0mself\u001b[0m\u001b[0;34m.\u001b[0m\u001b[0m_n_jobs\u001b[0m\u001b[0;34m)\u001b[0m\u001b[0;34m:\u001b[0m\u001b[0;34m\u001b[0m\u001b[0;34m\u001b[0m\u001b[0m\n\u001b[0;32m--> 262\u001b[0;31m             return [func(*args, **kwargs)\n\u001b[0m\u001b[1;32m    263\u001b[0m                     for func, args, kwargs in self.items]\n\u001b[1;32m    264\u001b[0m \u001b[0;34m\u001b[0m\u001b[0m\n",
      "\u001b[0;32m~/PycharmProjects/pythonProject/venv/lib/python3.8/site-packages/joblib/parallel.py\u001b[0m in \u001b[0;36m<listcomp>\u001b[0;34m(.0)\u001b[0m\n\u001b[1;32m    260\u001b[0m         \u001b[0;31m# change the default number of processes to -1\u001b[0m\u001b[0;34m\u001b[0m\u001b[0;34m\u001b[0m\u001b[0;34m\u001b[0m\u001b[0m\n\u001b[1;32m    261\u001b[0m         \u001b[0;32mwith\u001b[0m \u001b[0mparallel_backend\u001b[0m\u001b[0;34m(\u001b[0m\u001b[0mself\u001b[0m\u001b[0;34m.\u001b[0m\u001b[0m_backend\u001b[0m\u001b[0;34m,\u001b[0m \u001b[0mn_jobs\u001b[0m\u001b[0;34m=\u001b[0m\u001b[0mself\u001b[0m\u001b[0;34m.\u001b[0m\u001b[0m_n_jobs\u001b[0m\u001b[0;34m)\u001b[0m\u001b[0;34m:\u001b[0m\u001b[0;34m\u001b[0m\u001b[0;34m\u001b[0m\u001b[0m\n\u001b[0;32m--> 262\u001b[0;31m             return [func(*args, **kwargs)\n\u001b[0m\u001b[1;32m    263\u001b[0m                     for func, args, kwargs in self.items]\n\u001b[1;32m    264\u001b[0m \u001b[0;34m\u001b[0m\u001b[0m\n",
      "\u001b[0;32m~/PycharmProjects/pythonProject/venv/lib/python3.8/site-packages/sklearn/utils/fixes.py\u001b[0m in \u001b[0;36m__call__\u001b[0;34m(self, *args, **kwargs)\u001b[0m\n\u001b[1;32m    207\u001b[0m     \u001b[0;32mdef\u001b[0m \u001b[0m__call__\u001b[0m\u001b[0;34m(\u001b[0m\u001b[0mself\u001b[0m\u001b[0;34m,\u001b[0m \u001b[0;34m*\u001b[0m\u001b[0margs\u001b[0m\u001b[0;34m,\u001b[0m \u001b[0;34m**\u001b[0m\u001b[0mkwargs\u001b[0m\u001b[0;34m)\u001b[0m\u001b[0;34m:\u001b[0m\u001b[0;34m\u001b[0m\u001b[0;34m\u001b[0m\u001b[0m\n\u001b[1;32m    208\u001b[0m         \u001b[0;32mwith\u001b[0m \u001b[0mconfig_context\u001b[0m\u001b[0;34m(\u001b[0m\u001b[0;34m**\u001b[0m\u001b[0mself\u001b[0m\u001b[0;34m.\u001b[0m\u001b[0mconfig\u001b[0m\u001b[0;34m)\u001b[0m\u001b[0;34m:\u001b[0m\u001b[0;34m\u001b[0m\u001b[0;34m\u001b[0m\u001b[0m\n\u001b[0;32m--> 209\u001b[0;31m             \u001b[0;32mreturn\u001b[0m \u001b[0mself\u001b[0m\u001b[0;34m.\u001b[0m\u001b[0mfunction\u001b[0m\u001b[0;34m(\u001b[0m\u001b[0;34m*\u001b[0m\u001b[0margs\u001b[0m\u001b[0;34m,\u001b[0m \u001b[0;34m**\u001b[0m\u001b[0mkwargs\u001b[0m\u001b[0;34m)\u001b[0m\u001b[0;34m\u001b[0m\u001b[0;34m\u001b[0m\u001b[0m\n\u001b[0m\u001b[1;32m    210\u001b[0m \u001b[0;34m\u001b[0m\u001b[0m\n\u001b[1;32m    211\u001b[0m \u001b[0;34m\u001b[0m\u001b[0m\n",
      "\u001b[0;32m~/PycharmProjects/pythonProject/venv/lib/python3.8/site-packages/sklearn/model_selection/_validation.py\u001b[0m in \u001b[0;36m_fit_and_score\u001b[0;34m(estimator, X, y, scorer, train, test, verbose, parameters, fit_params, return_train_score, return_parameters, return_n_test_samples, return_times, return_estimator, split_progress, candidate_progress, error_score)\u001b[0m\n\u001b[1;32m    679\u001b[0m             \u001b[0mestimator\u001b[0m\u001b[0;34m.\u001b[0m\u001b[0mfit\u001b[0m\u001b[0;34m(\u001b[0m\u001b[0mX_train\u001b[0m\u001b[0;34m,\u001b[0m \u001b[0;34m**\u001b[0m\u001b[0mfit_params\u001b[0m\u001b[0;34m)\u001b[0m\u001b[0;34m\u001b[0m\u001b[0;34m\u001b[0m\u001b[0m\n\u001b[1;32m    680\u001b[0m         \u001b[0;32melse\u001b[0m\u001b[0;34m:\u001b[0m\u001b[0;34m\u001b[0m\u001b[0;34m\u001b[0m\u001b[0m\n\u001b[0;32m--> 681\u001b[0;31m             \u001b[0mestimator\u001b[0m\u001b[0;34m.\u001b[0m\u001b[0mfit\u001b[0m\u001b[0;34m(\u001b[0m\u001b[0mX_train\u001b[0m\u001b[0;34m,\u001b[0m \u001b[0my_train\u001b[0m\u001b[0;34m,\u001b[0m \u001b[0;34m**\u001b[0m\u001b[0mfit_params\u001b[0m\u001b[0;34m)\u001b[0m\u001b[0;34m\u001b[0m\u001b[0;34m\u001b[0m\u001b[0m\n\u001b[0m\u001b[1;32m    682\u001b[0m \u001b[0;34m\u001b[0m\u001b[0m\n\u001b[1;32m    683\u001b[0m     \u001b[0;32mexcept\u001b[0m \u001b[0mException\u001b[0m\u001b[0;34m:\u001b[0m\u001b[0;34m\u001b[0m\u001b[0;34m\u001b[0m\u001b[0m\n",
      "\u001b[0;32m~/PycharmProjects/pythonProject/venv/lib/python3.8/site-packages/sklearn/linear_model/_logistic.py\u001b[0m in \u001b[0;36mfit\u001b[0;34m(self, X, y, sample_weight)\u001b[0m\n\u001b[1;32m   1587\u001b[0m         \u001b[0;32melse\u001b[0m\u001b[0;34m:\u001b[0m\u001b[0;34m\u001b[0m\u001b[0;34m\u001b[0m\u001b[0m\n\u001b[1;32m   1588\u001b[0m             \u001b[0mprefer\u001b[0m \u001b[0;34m=\u001b[0m \u001b[0;34m\"processes\"\u001b[0m\u001b[0;34m\u001b[0m\u001b[0;34m\u001b[0m\u001b[0m\n\u001b[0;32m-> 1589\u001b[0;31m         fold_coefs_ = Parallel(\n\u001b[0m\u001b[1;32m   1590\u001b[0m             \u001b[0mn_jobs\u001b[0m\u001b[0;34m=\u001b[0m\u001b[0mself\u001b[0m\u001b[0;34m.\u001b[0m\u001b[0mn_jobs\u001b[0m\u001b[0;34m,\u001b[0m\u001b[0;34m\u001b[0m\u001b[0;34m\u001b[0m\u001b[0m\n\u001b[1;32m   1591\u001b[0m             \u001b[0mverbose\u001b[0m\u001b[0;34m=\u001b[0m\u001b[0mself\u001b[0m\u001b[0;34m.\u001b[0m\u001b[0mverbose\u001b[0m\u001b[0;34m,\u001b[0m\u001b[0;34m\u001b[0m\u001b[0;34m\u001b[0m\u001b[0m\n",
      "\u001b[0;32m~/PycharmProjects/pythonProject/venv/lib/python3.8/site-packages/joblib/parallel.py\u001b[0m in \u001b[0;36m__call__\u001b[0;34m(self, iterable)\u001b[0m\n\u001b[1;32m   1039\u001b[0m             \u001b[0;31m# remaining jobs.\u001b[0m\u001b[0;34m\u001b[0m\u001b[0;34m\u001b[0m\u001b[0;34m\u001b[0m\u001b[0m\n\u001b[1;32m   1040\u001b[0m             \u001b[0mself\u001b[0m\u001b[0;34m.\u001b[0m\u001b[0m_iterating\u001b[0m \u001b[0;34m=\u001b[0m \u001b[0;32mFalse\u001b[0m\u001b[0;34m\u001b[0m\u001b[0;34m\u001b[0m\u001b[0m\n\u001b[0;32m-> 1041\u001b[0;31m             \u001b[0;32mif\u001b[0m \u001b[0mself\u001b[0m\u001b[0;34m.\u001b[0m\u001b[0mdispatch_one_batch\u001b[0m\u001b[0;34m(\u001b[0m\u001b[0miterator\u001b[0m\u001b[0;34m)\u001b[0m\u001b[0;34m:\u001b[0m\u001b[0;34m\u001b[0m\u001b[0;34m\u001b[0m\u001b[0m\n\u001b[0m\u001b[1;32m   1042\u001b[0m                 \u001b[0mself\u001b[0m\u001b[0;34m.\u001b[0m\u001b[0m_iterating\u001b[0m \u001b[0;34m=\u001b[0m \u001b[0mself\u001b[0m\u001b[0;34m.\u001b[0m\u001b[0m_original_iterator\u001b[0m \u001b[0;32mis\u001b[0m \u001b[0;32mnot\u001b[0m \u001b[0;32mNone\u001b[0m\u001b[0;34m\u001b[0m\u001b[0;34m\u001b[0m\u001b[0m\n\u001b[1;32m   1043\u001b[0m \u001b[0;34m\u001b[0m\u001b[0m\n",
      "\u001b[0;32m~/PycharmProjects/pythonProject/venv/lib/python3.8/site-packages/joblib/parallel.py\u001b[0m in \u001b[0;36mdispatch_one_batch\u001b[0;34m(self, iterator)\u001b[0m\n\u001b[1;32m    857\u001b[0m                 \u001b[0;32mreturn\u001b[0m \u001b[0;32mFalse\u001b[0m\u001b[0;34m\u001b[0m\u001b[0;34m\u001b[0m\u001b[0m\n\u001b[1;32m    858\u001b[0m             \u001b[0;32melse\u001b[0m\u001b[0;34m:\u001b[0m\u001b[0;34m\u001b[0m\u001b[0;34m\u001b[0m\u001b[0m\n\u001b[0;32m--> 859\u001b[0;31m                 \u001b[0mself\u001b[0m\u001b[0;34m.\u001b[0m\u001b[0m_dispatch\u001b[0m\u001b[0;34m(\u001b[0m\u001b[0mtasks\u001b[0m\u001b[0;34m)\u001b[0m\u001b[0;34m\u001b[0m\u001b[0;34m\u001b[0m\u001b[0m\n\u001b[0m\u001b[1;32m    860\u001b[0m                 \u001b[0;32mreturn\u001b[0m \u001b[0;32mTrue\u001b[0m\u001b[0;34m\u001b[0m\u001b[0;34m\u001b[0m\u001b[0m\n\u001b[1;32m    861\u001b[0m \u001b[0;34m\u001b[0m\u001b[0m\n",
      "\u001b[0;32m~/PycharmProjects/pythonProject/venv/lib/python3.8/site-packages/joblib/parallel.py\u001b[0m in \u001b[0;36m_dispatch\u001b[0;34m(self, batch)\u001b[0m\n\u001b[1;32m    775\u001b[0m         \u001b[0;32mwith\u001b[0m \u001b[0mself\u001b[0m\u001b[0;34m.\u001b[0m\u001b[0m_lock\u001b[0m\u001b[0;34m:\u001b[0m\u001b[0;34m\u001b[0m\u001b[0;34m\u001b[0m\u001b[0m\n\u001b[1;32m    776\u001b[0m             \u001b[0mjob_idx\u001b[0m \u001b[0;34m=\u001b[0m \u001b[0mlen\u001b[0m\u001b[0;34m(\u001b[0m\u001b[0mself\u001b[0m\u001b[0;34m.\u001b[0m\u001b[0m_jobs\u001b[0m\u001b[0;34m)\u001b[0m\u001b[0;34m\u001b[0m\u001b[0;34m\u001b[0m\u001b[0m\n\u001b[0;32m--> 777\u001b[0;31m             \u001b[0mjob\u001b[0m \u001b[0;34m=\u001b[0m \u001b[0mself\u001b[0m\u001b[0;34m.\u001b[0m\u001b[0m_backend\u001b[0m\u001b[0;34m.\u001b[0m\u001b[0mapply_async\u001b[0m\u001b[0;34m(\u001b[0m\u001b[0mbatch\u001b[0m\u001b[0;34m,\u001b[0m \u001b[0mcallback\u001b[0m\u001b[0;34m=\u001b[0m\u001b[0mcb\u001b[0m\u001b[0;34m)\u001b[0m\u001b[0;34m\u001b[0m\u001b[0;34m\u001b[0m\u001b[0m\n\u001b[0m\u001b[1;32m    778\u001b[0m             \u001b[0;31m# A job can complete so quickly than its callback is\u001b[0m\u001b[0;34m\u001b[0m\u001b[0;34m\u001b[0m\u001b[0;34m\u001b[0m\u001b[0m\n\u001b[1;32m    779\u001b[0m             \u001b[0;31m# called before we get here, causing self._jobs to\u001b[0m\u001b[0;34m\u001b[0m\u001b[0;34m\u001b[0m\u001b[0;34m\u001b[0m\u001b[0m\n",
      "\u001b[0;32m~/PycharmProjects/pythonProject/venv/lib/python3.8/site-packages/joblib/_parallel_backends.py\u001b[0m in \u001b[0;36mapply_async\u001b[0;34m(self, func, callback)\u001b[0m\n\u001b[1;32m    206\u001b[0m     \u001b[0;32mdef\u001b[0m \u001b[0mapply_async\u001b[0m\u001b[0;34m(\u001b[0m\u001b[0mself\u001b[0m\u001b[0;34m,\u001b[0m \u001b[0mfunc\u001b[0m\u001b[0;34m,\u001b[0m \u001b[0mcallback\u001b[0m\u001b[0;34m=\u001b[0m\u001b[0;32mNone\u001b[0m\u001b[0;34m)\u001b[0m\u001b[0;34m:\u001b[0m\u001b[0;34m\u001b[0m\u001b[0;34m\u001b[0m\u001b[0m\n\u001b[1;32m    207\u001b[0m         \u001b[0;34m\"\"\"Schedule a func to be run\"\"\"\u001b[0m\u001b[0;34m\u001b[0m\u001b[0;34m\u001b[0m\u001b[0m\n\u001b[0;32m--> 208\u001b[0;31m         \u001b[0mresult\u001b[0m \u001b[0;34m=\u001b[0m \u001b[0mImmediateResult\u001b[0m\u001b[0;34m(\u001b[0m\u001b[0mfunc\u001b[0m\u001b[0;34m)\u001b[0m\u001b[0;34m\u001b[0m\u001b[0;34m\u001b[0m\u001b[0m\n\u001b[0m\u001b[1;32m    209\u001b[0m         \u001b[0;32mif\u001b[0m \u001b[0mcallback\u001b[0m\u001b[0;34m:\u001b[0m\u001b[0;34m\u001b[0m\u001b[0;34m\u001b[0m\u001b[0m\n\u001b[1;32m    210\u001b[0m             \u001b[0mcallback\u001b[0m\u001b[0;34m(\u001b[0m\u001b[0mresult\u001b[0m\u001b[0;34m)\u001b[0m\u001b[0;34m\u001b[0m\u001b[0;34m\u001b[0m\u001b[0m\n",
      "\u001b[0;32m~/PycharmProjects/pythonProject/venv/lib/python3.8/site-packages/joblib/_parallel_backends.py\u001b[0m in \u001b[0;36m__init__\u001b[0;34m(self, batch)\u001b[0m\n\u001b[1;32m    570\u001b[0m         \u001b[0;31m# Don't delay the application, to avoid keeping the input\u001b[0m\u001b[0;34m\u001b[0m\u001b[0;34m\u001b[0m\u001b[0;34m\u001b[0m\u001b[0m\n\u001b[1;32m    571\u001b[0m         \u001b[0;31m# arguments in memory\u001b[0m\u001b[0;34m\u001b[0m\u001b[0;34m\u001b[0m\u001b[0;34m\u001b[0m\u001b[0m\n\u001b[0;32m--> 572\u001b[0;31m         \u001b[0mself\u001b[0m\u001b[0;34m.\u001b[0m\u001b[0mresults\u001b[0m \u001b[0;34m=\u001b[0m \u001b[0mbatch\u001b[0m\u001b[0;34m(\u001b[0m\u001b[0;34m)\u001b[0m\u001b[0;34m\u001b[0m\u001b[0;34m\u001b[0m\u001b[0m\n\u001b[0m\u001b[1;32m    573\u001b[0m \u001b[0;34m\u001b[0m\u001b[0m\n\u001b[1;32m    574\u001b[0m     \u001b[0;32mdef\u001b[0m \u001b[0mget\u001b[0m\u001b[0;34m(\u001b[0m\u001b[0mself\u001b[0m\u001b[0;34m)\u001b[0m\u001b[0;34m:\u001b[0m\u001b[0;34m\u001b[0m\u001b[0;34m\u001b[0m\u001b[0m\n",
      "\u001b[0;32m~/PycharmProjects/pythonProject/venv/lib/python3.8/site-packages/joblib/parallel.py\u001b[0m in \u001b[0;36m__call__\u001b[0;34m(self)\u001b[0m\n\u001b[1;32m    260\u001b[0m         \u001b[0;31m# change the default number of processes to -1\u001b[0m\u001b[0;34m\u001b[0m\u001b[0;34m\u001b[0m\u001b[0;34m\u001b[0m\u001b[0m\n\u001b[1;32m    261\u001b[0m         \u001b[0;32mwith\u001b[0m \u001b[0mparallel_backend\u001b[0m\u001b[0;34m(\u001b[0m\u001b[0mself\u001b[0m\u001b[0;34m.\u001b[0m\u001b[0m_backend\u001b[0m\u001b[0;34m,\u001b[0m \u001b[0mn_jobs\u001b[0m\u001b[0;34m=\u001b[0m\u001b[0mself\u001b[0m\u001b[0;34m.\u001b[0m\u001b[0m_n_jobs\u001b[0m\u001b[0;34m)\u001b[0m\u001b[0;34m:\u001b[0m\u001b[0;34m\u001b[0m\u001b[0;34m\u001b[0m\u001b[0m\n\u001b[0;32m--> 262\u001b[0;31m             return [func(*args, **kwargs)\n\u001b[0m\u001b[1;32m    263\u001b[0m                     for func, args, kwargs in self.items]\n\u001b[1;32m    264\u001b[0m \u001b[0;34m\u001b[0m\u001b[0m\n",
      "\u001b[0;32m~/PycharmProjects/pythonProject/venv/lib/python3.8/site-packages/joblib/parallel.py\u001b[0m in \u001b[0;36m<listcomp>\u001b[0;34m(.0)\u001b[0m\n\u001b[1;32m    260\u001b[0m         \u001b[0;31m# change the default number of processes to -1\u001b[0m\u001b[0;34m\u001b[0m\u001b[0;34m\u001b[0m\u001b[0;34m\u001b[0m\u001b[0m\n\u001b[1;32m    261\u001b[0m         \u001b[0;32mwith\u001b[0m \u001b[0mparallel_backend\u001b[0m\u001b[0;34m(\u001b[0m\u001b[0mself\u001b[0m\u001b[0;34m.\u001b[0m\u001b[0m_backend\u001b[0m\u001b[0;34m,\u001b[0m \u001b[0mn_jobs\u001b[0m\u001b[0;34m=\u001b[0m\u001b[0mself\u001b[0m\u001b[0;34m.\u001b[0m\u001b[0m_n_jobs\u001b[0m\u001b[0;34m)\u001b[0m\u001b[0;34m:\u001b[0m\u001b[0;34m\u001b[0m\u001b[0;34m\u001b[0m\u001b[0m\n\u001b[0;32m--> 262\u001b[0;31m             return [func(*args, **kwargs)\n\u001b[0m\u001b[1;32m    263\u001b[0m                     for func, args, kwargs in self.items]\n\u001b[1;32m    264\u001b[0m \u001b[0;34m\u001b[0m\u001b[0m\n",
      "\u001b[0;32m~/PycharmProjects/pythonProject/venv/lib/python3.8/site-packages/sklearn/utils/fixes.py\u001b[0m in \u001b[0;36m__call__\u001b[0;34m(self, *args, **kwargs)\u001b[0m\n\u001b[1;32m    207\u001b[0m     \u001b[0;32mdef\u001b[0m \u001b[0m__call__\u001b[0m\u001b[0;34m(\u001b[0m\u001b[0mself\u001b[0m\u001b[0;34m,\u001b[0m \u001b[0;34m*\u001b[0m\u001b[0margs\u001b[0m\u001b[0;34m,\u001b[0m \u001b[0;34m**\u001b[0m\u001b[0mkwargs\u001b[0m\u001b[0;34m)\u001b[0m\u001b[0;34m:\u001b[0m\u001b[0;34m\u001b[0m\u001b[0;34m\u001b[0m\u001b[0m\n\u001b[1;32m    208\u001b[0m         \u001b[0;32mwith\u001b[0m \u001b[0mconfig_context\u001b[0m\u001b[0;34m(\u001b[0m\u001b[0;34m**\u001b[0m\u001b[0mself\u001b[0m\u001b[0;34m.\u001b[0m\u001b[0mconfig\u001b[0m\u001b[0;34m)\u001b[0m\u001b[0;34m:\u001b[0m\u001b[0;34m\u001b[0m\u001b[0;34m\u001b[0m\u001b[0m\n\u001b[0;32m--> 209\u001b[0;31m             \u001b[0;32mreturn\u001b[0m \u001b[0mself\u001b[0m\u001b[0;34m.\u001b[0m\u001b[0mfunction\u001b[0m\u001b[0;34m(\u001b[0m\u001b[0;34m*\u001b[0m\u001b[0margs\u001b[0m\u001b[0;34m,\u001b[0m \u001b[0;34m**\u001b[0m\u001b[0mkwargs\u001b[0m\u001b[0;34m)\u001b[0m\u001b[0;34m\u001b[0m\u001b[0;34m\u001b[0m\u001b[0m\n\u001b[0m\u001b[1;32m    210\u001b[0m \u001b[0;34m\u001b[0m\u001b[0m\n\u001b[1;32m    211\u001b[0m \u001b[0;34m\u001b[0m\u001b[0m\n",
      "\u001b[0;32m~/PycharmProjects/pythonProject/venv/lib/python3.8/site-packages/sklearn/linear_model/_logistic.py\u001b[0m in \u001b[0;36m_logistic_regression_path\u001b[0;34m(X, y, pos_class, Cs, fit_intercept, max_iter, tol, verbose, solver, coef, class_weight, dual, penalty, intercept_scaling, multi_class, random_state, check_input, max_squared_sum, sample_weight, l1_ratio)\u001b[0m\n\u001b[1;32m    862\u001b[0m                 \u001b[0mbeta\u001b[0m \u001b[0;34m=\u001b[0m \u001b[0;34m(\u001b[0m\u001b[0;36m1.0\u001b[0m \u001b[0;34m/\u001b[0m \u001b[0mC\u001b[0m\u001b[0;34m)\u001b[0m \u001b[0;34m*\u001b[0m \u001b[0ml1_ratio\u001b[0m\u001b[0;34m\u001b[0m\u001b[0;34m\u001b[0m\u001b[0m\n\u001b[1;32m    863\u001b[0m \u001b[0;34m\u001b[0m\u001b[0m\n\u001b[0;32m--> 864\u001b[0;31m             w0, n_iter_i, warm_start_sag = sag_solver(\n\u001b[0m\u001b[1;32m    865\u001b[0m                 \u001b[0mX\u001b[0m\u001b[0;34m,\u001b[0m\u001b[0;34m\u001b[0m\u001b[0;34m\u001b[0m\u001b[0m\n\u001b[1;32m    866\u001b[0m                 \u001b[0mtarget\u001b[0m\u001b[0;34m,\u001b[0m\u001b[0;34m\u001b[0m\u001b[0;34m\u001b[0m\u001b[0m\n",
      "\u001b[0;32m~/PycharmProjects/pythonProject/venv/lib/python3.8/site-packages/sklearn/linear_model/_sag.py\u001b[0m in \u001b[0;36msag_solver\u001b[0;34m(X, y, sample_weight, loss, alpha, beta, max_iter, tol, verbose, random_state, check_input, max_squared_sum, warm_start_mem, is_saga)\u001b[0m\n\u001b[1;32m    325\u001b[0m \u001b[0;34m\u001b[0m\u001b[0m\n\u001b[1;32m    326\u001b[0m     \u001b[0msag\u001b[0m \u001b[0;34m=\u001b[0m \u001b[0msag64\u001b[0m \u001b[0;32mif\u001b[0m \u001b[0mX\u001b[0m\u001b[0;34m.\u001b[0m\u001b[0mdtype\u001b[0m \u001b[0;34m==\u001b[0m \u001b[0mnp\u001b[0m\u001b[0;34m.\u001b[0m\u001b[0mfloat64\u001b[0m \u001b[0;32melse\u001b[0m \u001b[0msag32\u001b[0m\u001b[0;34m\u001b[0m\u001b[0;34m\u001b[0m\u001b[0m\n\u001b[0;32m--> 327\u001b[0;31m     num_seen, n_iter_ = sag(\n\u001b[0m\u001b[1;32m    328\u001b[0m         \u001b[0mdataset\u001b[0m\u001b[0;34m,\u001b[0m\u001b[0;34m\u001b[0m\u001b[0;34m\u001b[0m\u001b[0m\n\u001b[1;32m    329\u001b[0m         \u001b[0mcoef_init\u001b[0m\u001b[0;34m,\u001b[0m\u001b[0;34m\u001b[0m\u001b[0;34m\u001b[0m\u001b[0m\n",
      "\u001b[0;31mKeyboardInterrupt\u001b[0m: "
     ]
    }
   ],
   "source": [
    "from sklearn.model_selection import GridSearchCV\n",
    "from sklearn.metrics import make_scorer, log_loss\n",
    "\n",
    "logistic = LogisticRegression(random_state=random_state,\n",
    "                              multi_class='multinomial',\n",
    "                              solver='saga')\n",
    "\n",
    "params_log = {\"max_iter\": [100, 200, 500], \"C\": [1, 2, 5]}\n",
    "\n",
    "\n",
    "# Ref: https://scikit-learn.org/stable/modules/model_evaluation.html#scoring-parameter\n",
    "# whether the python function returns a score \n",
    "# (greater_is_better=True, the default) or a loss (greater_is_better=False). \n",
    "# If a loss, the output of the python function is negated by the scorer object, \n",
    "# conforming to the cross validation convention that scorers return higher values for better models.\n",
    "grid_log = GridSearchCV(logistic, param_grid=params_log, scoring='neg_log_loss', cv=5)\n",
    "\n",
    "grid_log.fit(train_X, train_y)\n",
    "\n",
    "print(\n",
    "    \"the best neg_log_loss of all model parameters' combination on model: {:.4f}\"\n",
    "    .format(grid_log.best_score_))"
   ]
  },
  {
   "cell_type": "code",
   "execution_count": null,
   "metadata": {},
   "outputs": [],
   "source": [
    "print(\"the parameter setting of optimized model: {}\".format(\n",
    "    grid_log.best_estimator_))"
   ]
  },
  {
   "cell_type": "code",
   "execution_count": null,
   "metadata": {},
   "outputs": [],
   "source": [
    "print(\"the accuracy of the optimized model on testing dataset...\")\n",
    "_, _ = sk_evaluate(grid_log, test_X, test_y, label_names=None)"
   ]
  },
  {
   "cell_type": "markdown",
   "metadata": {},
   "source": [
    "# (Optional) Grid-Search for Best Hyper-Parameters on SGD"
   ]
  },
  {
   "cell_type": "markdown",
   "metadata": {},
   "source": [
    "<mark>**NOTE:**</mark>\n",
    "\n",
    "The `roc_auc_score` only accepts **binary class**, thus if we have multiple classes, the `roc_auc_score` does not apply."
   ]
  },
  {
   "cell_type": "code",
   "execution_count": null,
   "metadata": {},
   "outputs": [],
   "source": [
    "from sklearn.metrics import roc_auc_score\n",
    "\n",
    "sgd = SGDClassifier(loss='hinge', penality='l2', verbose=1, random_state=random_state)\n",
    "\n",
    "params_sgd = {'learning_rate': ['adaptive', 'invscaling'], \n",
    "              'eta0': [1, 0.5, 0.1]}\n",
    "\n",
    "grid_sgd = GridSearchCV(sgd, param_grid=params_sgd, scoring='accuracy', cv=5)\n",
    "\n",
    "grid_sgd.fit(train_X, train_y)\n",
    "\n",
    "print(\"the best auc of all model parameters' combination on model: {:.4f}\".\n",
    "      format(grid_sgd.best_score_))"
   ]
  },
  {
   "cell_type": "code",
   "execution_count": null,
   "metadata": {},
   "outputs": [],
   "source": [
    "print(\"the parameter setting of optimized model: {}\".format(\n",
    "    grid_sgd.best_estimator_))"
   ]
  },
  {
   "cell_type": "code",
   "execution_count": null,
   "metadata": {},
   "outputs": [],
   "source": [
    "print(\"the accuracy of the optimized model on testing dataset...\")\n",
    "_, _ = sk_evaluate(grid_sgd, test_X, test_y, label_names=None)"
   ]
  },
  {
   "cell_type": "code",
   "execution_count": null,
   "metadata": {},
   "outputs": [],
   "source": []
  }
 ],
 "metadata": {
  "kernelspec": {
   "display_name": "Python 3 (ipykernel)",
   "language": "python",
   "name": "python3"
  },
  "language_info": {
   "codemirror_mode": {
    "name": "ipython",
    "version": 3
   },
   "file_extension": ".py",
   "mimetype": "text/x-python",
   "name": "python",
   "nbconvert_exporter": "python",
   "pygments_lexer": "ipython3",
   "version": "3.8.10"
  },
  "toc": {
   "base_numbering": 1,
   "nav_menu": {},
   "number_sections": true,
   "sideBar": true,
   "skip_h1_title": false,
   "title_cell": "Table of Contents",
   "title_sidebar": "Contents",
   "toc_cell": false,
   "toc_position": {},
   "toc_section_display": true,
   "toc_window_display": false
  }
 },
 "nbformat": 4,
 "nbformat_minor": 2
}
